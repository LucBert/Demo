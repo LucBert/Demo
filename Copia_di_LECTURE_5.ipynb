{
  "nbformat": 4,
  "nbformat_minor": 0,
  "metadata": {
    "colab": {
      "provenance": [],
      "collapsed_sections": [],
      "include_colab_link": true
    },
    "kernelspec": {
      "name": "python3",
      "display_name": "Python 3"
    },
    "language_info": {
      "name": "python"
    }
  },
  "cells": [
    {
      "cell_type": "markdown",
      "metadata": {
        "id": "view-in-github",
        "colab_type": "text"
      },
      "source": [
        "<a href=\"https://colab.research.google.com/github/LucBert/Demo/blob/master/Copia_di_LECTURE_5.ipynb\" target=\"_parent\"><img src=\"https://colab.research.google.com/assets/colab-badge.svg\" alt=\"Open In Colab\"/></a>"
      ]
    },
    {
      "cell_type": "markdown",
      "source": [
        "#Python Language Basics"
      ],
      "metadata": {
        "id": "DJeUYIiPoyp_"
      }
    },
    {
      "cell_type": "code",
      "source": [
        "person_dict = {'name':'Nick', 'surname':'Marastoni', 'age':39}"
      ],
      "metadata": {
        "id": "bfy7oxTWYquw"
      },
      "execution_count": null,
      "outputs": []
    },
    {
      "cell_type": "code",
      "source": [
        "for el in person_dict:\n",
        "    print(person_dict[el])"
      ],
      "metadata": {
        "colab": {
          "base_uri": "https://localhost:8080/"
        },
        "id": "2uS6vPBSY2vZ",
        "outputId": "9bea0a13-b256-4967-be3b-ee2699c54a92"
      },
      "execution_count": null,
      "outputs": [
        {
          "output_type": "stream",
          "name": "stdout",
          "text": [
            "Nick\n",
            "Marastoni\n",
            "39\n"
          ]
        }
      ]
    },
    {
      "cell_type": "code",
      "source": [
        "for value in person_dict.values():\n",
        "    print(value)"
      ],
      "metadata": {
        "colab": {
          "base_uri": "https://localhost:8080/"
        },
        "id": "su27pI3lZNDM",
        "outputId": "af24cc80-63de-4a8e-a56a-677966434661"
      },
      "execution_count": null,
      "outputs": [
        {
          "output_type": "stream",
          "name": "stdout",
          "text": [
            "Nick\n",
            "Marastoni\n",
            "39\n"
          ]
        }
      ]
    },
    {
      "cell_type": "markdown",
      "metadata": {
        "id": "mE3SsUGTA4UY"
      },
      "source": [
        "- List Comprehension\n",
        "    - Time comparison (even list)"
      ]
    },
    {
      "cell_type": "code",
      "source": [
        "a_list = []\n",
        "#populate with the first 200 even numbers using a for loop\n",
        "for number in range(400):\n",
        "    if number % 2 == 0:\n",
        "        a_list.append(number)"
      ],
      "metadata": {
        "id": "Qa6zfsaIZv8k"
      },
      "execution_count": null,
      "outputs": []
    },
    {
      "cell_type": "code",
      "source": [
        "len(a_list)"
      ],
      "metadata": {
        "colab": {
          "base_uri": "https://localhost:8080/"
        },
        "id": "XEnUZEgzb2Dp",
        "outputId": "bb9a0e55-8a61-4539-95f4-46910abf7576"
      },
      "execution_count": null,
      "outputs": [
        {
          "output_type": "execute_result",
          "data": {
            "text/plain": [
              "200"
            ]
          },
          "metadata": {},
          "execution_count": 26
        }
      ]
    },
    {
      "cell_type": "code",
      "source": [
        "for number in range(200):\n",
        "    a_list.append(number*2)"
      ],
      "metadata": {
        "id": "inQUCpy2bDGJ"
      },
      "execution_count": null,
      "outputs": []
    },
    {
      "cell_type": "code",
      "source": [
        "%%timeit\n",
        "list_of_numbers = [element for element in range(1000000)]"
      ],
      "metadata": {
        "colab": {
          "base_uri": "https://localhost:8080/"
        },
        "id": "P3yIV3X8c8s-",
        "outputId": "f79e07a6-a791-434d-9bb1-23c35c0cc698"
      },
      "execution_count": null,
      "outputs": [
        {
          "output_type": "stream",
          "name": "stdout",
          "text": [
            "91.5 ms ± 10.4 ms per loop (mean ± std. dev. of 7 runs, 10 loops each)\n"
          ]
        }
      ]
    },
    {
      "cell_type": "code",
      "source": [
        "%%timeit\n",
        "list_of_numbers = []\n",
        "for i in range(1000000):\n",
        "    list_of_numbers.append(i)"
      ],
      "metadata": {
        "colab": {
          "base_uri": "https://localhost:8080/"
        },
        "id": "PrIOFvCrdJuF",
        "outputId": "42224a87-4de1-4bae-db9e-e033bb3fde58"
      },
      "execution_count": null,
      "outputs": [
        {
          "output_type": "stream",
          "name": "stdout",
          "text": [
            "121 ms ± 1.9 ms per loop (mean ± std. dev. of 7 runs, 10 loops each)\n"
          ]
        }
      ]
    },
    {
      "cell_type": "code",
      "source": [
        "list_of_even_numbers = [x for x in range(400) if x % 2 == 0]"
      ],
      "metadata": {
        "id": "P0uI_6QPdZEe"
      },
      "execution_count": null,
      "outputs": []
    },
    {
      "cell_type": "code",
      "source": [
        "a = [x*2 for x in range(200)]"
      ],
      "metadata": {
        "id": "DAi459BVecul"
      },
      "execution_count": null,
      "outputs": []
    },
    {
      "cell_type": "code",
      "source": [
        "for el in [x*2 for x in range(200)]:\n",
        "    print(el)"
      ],
      "metadata": {
        "id": "oF1RuSPOeKT-"
      },
      "execution_count": null,
      "outputs": []
    },
    {
      "cell_type": "markdown",
      "metadata": {
        "id": "9IUFirTfrw0Y"
      },
      "source": [
        "- Functions \n",
        "    - Parameters\n",
        "    - calling/returning\n",
        "    - Scope\n",
        "    - input/no input/output/no output\n",
        " \n",
        "\n"
      ]
    },
    {
      "cell_type": "code",
      "source": [
        "def square_of_sum(x, y):\n",
        "    result = x*x + y*y + 2*x*y\n",
        "    return result"
      ],
      "metadata": {
        "id": "X49dwz-8feTo"
      },
      "execution_count": null,
      "outputs": []
    },
    {
      "cell_type": "code",
      "source": [
        "square_of_sum(1, 0)"
      ],
      "metadata": {
        "colab": {
          "base_uri": "https://localhost:8080/"
        },
        "id": "f1uKidcOgEz9",
        "outputId": "a05b2668-def3-4d4f-9fbd-e2f2c1374076"
      },
      "execution_count": null,
      "outputs": [
        {
          "output_type": "execute_result",
          "data": {
            "text/plain": [
              "1"
            ]
          },
          "metadata": {},
          "execution_count": 17
        }
      ]
    },
    {
      "cell_type": "code",
      "source": [
        "def this_function_always_returns_one():\n",
        "    return 1"
      ],
      "metadata": {
        "id": "ykPHfMrAgJAs"
      },
      "execution_count": null,
      "outputs": []
    },
    {
      "cell_type": "code",
      "source": [
        "def this_function_does_nothing():\n",
        "    pass"
      ],
      "metadata": {
        "id": "SkWKnzmOg3fH"
      },
      "execution_count": null,
      "outputs": []
    },
    {
      "cell_type": "code",
      "source": [
        "this_function_does_nothing()"
      ],
      "metadata": {
        "id": "g2Rmk8Ing-L-"
      },
      "execution_count": null,
      "outputs": []
    },
    {
      "cell_type": "code",
      "source": [
        "for number in range(200):\n",
        "    a_list.append(number*2)"
      ],
      "metadata": {
        "id": "lX8jVJb7iRej"
      },
      "execution_count": null,
      "outputs": []
    },
    {
      "cell_type": "code",
      "source": [
        "def generate_list_of_first_y_even_numbers(y):\n",
        "    a_list = []\n",
        "    for number in range(y):\n",
        "        a_list.append(number*2)\n",
        "    return a_list"
      ],
      "metadata": {
        "id": "ELZYxsMWhjTJ"
      },
      "execution_count": null,
      "outputs": []
    },
    {
      "cell_type": "code",
      "source": [
        "generate_list_of_first_y_even_numbers(10)"
      ],
      "metadata": {
        "id": "RJ5H3CfWV20t",
        "outputId": "d212d58a-4aeb-4274-9396-06486e6fa2e3",
        "colab": {
          "base_uri": "https://localhost:8080/"
        }
      },
      "execution_count": null,
      "outputs": [
        {
          "output_type": "execute_result",
          "data": {
            "text/plain": [
              "[0, 2, 4, 6, 8, 10, 12, 14, 16, 18]"
            ]
          },
          "metadata": {},
          "execution_count": 2
        }
      ]
    },
    {
      "cell_type": "code",
      "source": [
        "def generate_list_of_first_y_even_numbers_2(y):\n",
        "    return [x*2 for x in range(y)] "
      ],
      "metadata": {
        "id": "oEkl6GGIjTNo"
      },
      "execution_count": null,
      "outputs": []
    },
    {
      "cell_type": "code",
      "source": [
        "mary_poppins = 23\n",
        "generate_list_of_first_y_even_numbers_2(mary_poppins)"
      ],
      "metadata": {
        "id": "H3wX4cTmjcWw"
      },
      "execution_count": null,
      "outputs": []
    },
    {
      "cell_type": "code",
      "source": [
        "print(y)"
      ],
      "metadata": {
        "colab": {
          "base_uri": "https://localhost:8080/",
          "height": 169
        },
        "id": "BLbvig2GjheF",
        "outputId": "7b5f2d0a-1670-4b1b-bb1f-38c06ed4255e"
      },
      "execution_count": null,
      "outputs": [
        {
          "output_type": "error",
          "ename": "NameError",
          "evalue": "ignored",
          "traceback": [
            "\u001b[0;31m---------------------------------------------------------------------------\u001b[0m",
            "\u001b[0;31mNameError\u001b[0m                                 Traceback (most recent call last)",
            "\u001b[0;32m<ipython-input-34-d9183e048de3>\u001b[0m in \u001b[0;36m<module>\u001b[0;34m\u001b[0m\n\u001b[0;32m----> 1\u001b[0;31m \u001b[0mprint\u001b[0m\u001b[0;34m(\u001b[0m\u001b[0my\u001b[0m\u001b[0;34m)\u001b[0m\u001b[0;34m\u001b[0m\u001b[0;34m\u001b[0m\u001b[0m\n\u001b[0m",
            "\u001b[0;31mNameError\u001b[0m: name 'y' is not defined"
          ]
        }
      ]
    },
    {
      "cell_type": "code",
      "source": [
        "x = 200\n",
        "list_of_first_even_numbers = generate_list_of_first_y_even_numbers(x)"
      ],
      "metadata": {
        "id": "IcVrEeBihOC3"
      },
      "execution_count": null,
      "outputs": []
    },
    {
      "cell_type": "code",
      "source": [
        "len(list_of_first_even_numbers)"
      ],
      "metadata": {
        "colab": {
          "base_uri": "https://localhost:8080/"
        },
        "id": "K2XpoiWkh9QP",
        "outputId": "2b1ffac2-7b27-4674-b96a-5c6f414c68ce"
      },
      "execution_count": null,
      "outputs": [
        {
          "output_type": "execute_result",
          "data": {
            "text/plain": [
              "200"
            ]
          },
          "metadata": {},
          "execution_count": 30
        }
      ]
    },
    {
      "cell_type": "code",
      "source": [
        "list_of_first_even_numbers"
      ],
      "metadata": {
        "id": "_aPMUM1ejLzx"
      },
      "execution_count": null,
      "outputs": []
    },
    {
      "cell_type": "markdown",
      "metadata": {
        "id": "yKVnzCqjq0Lx"
      },
      "source": [
        "- Comments \n",
        "    - Inline\n",
        "    - Block \n",
        "    - Functions (pydoc)\n"
      ]
    },
    {
      "cell_type": "code",
      "source": [
        "def generate_list_of_first_y_even_numbers(y):\n",
        "    '''\n",
        "    this function generates a list of even numbers\n",
        "    input: y\n",
        "    output: a_list\n",
        "    '''\n",
        "    a_list = []\n",
        "    for number in range(y*2): # y*2 because i need even numbers\n",
        "        if number % 2 == 0: \n",
        "            a_list.append(number)\n",
        "    return a_list"
      ],
      "metadata": {
        "id": "e1iYpLk6kRtq"
      },
      "execution_count": null,
      "outputs": []
    },
    {
      "cell_type": "code",
      "source": [
        "generate_list_of_first_y_even_numbers(2)"
      ],
      "metadata": {
        "colab": {
          "base_uri": "https://localhost:8080/"
        },
        "id": "seWo0yYclfDn",
        "outputId": "c2ae505a-54e1-4c8d-ea14-3d3f5baf2d90"
      },
      "execution_count": null,
      "outputs": [
        {
          "output_type": "execute_result",
          "data": {
            "text/plain": [
              "[0, 2]"
            ]
          },
          "metadata": {},
          "execution_count": 4
        }
      ]
    },
    {
      "cell_type": "code",
      "source": [
        "generate_list_of_first_y_even_numbers()"
      ],
      "metadata": {
        "id": "nRsoP86QlsjE",
        "outputId": "b615a252-d0ae-4aa0-bf8e-2061f8182484",
        "colab": {
          "base_uri": "https://localhost:8080/",
          "height": 173
        }
      },
      "execution_count": null,
      "outputs": [
        {
          "output_type": "error",
          "ename": "TypeError",
          "evalue": "ignored",
          "traceback": [
            "\u001b[0;31m---------------------------------------------------------------------------\u001b[0m",
            "\u001b[0;31mTypeError\u001b[0m                                 Traceback (most recent call last)",
            "\u001b[0;32m<ipython-input-5-c1af9c93e69b>\u001b[0m in \u001b[0;36m<module>\u001b[0;34m\u001b[0m\n\u001b[0;32m----> 1\u001b[0;31m \u001b[0mgenerate_list_of_first_y_even_numbers\u001b[0m\u001b[0;34m(\u001b[0m\u001b[0;34m)\u001b[0m\u001b[0;34m\u001b[0m\u001b[0;34m\u001b[0m\u001b[0m\n\u001b[0m",
            "\u001b[0;31mTypeError\u001b[0m: generate_list_of_first_y_even_numbers() missing 1 required positional argument: 'y'"
          ]
        }
      ]
    },
    {
      "cell_type": "code",
      "source": [],
      "metadata": {
        "id": "245PeqqHkrMj"
      },
      "execution_count": null,
      "outputs": []
    },
    {
      "cell_type": "markdown",
      "metadata": {
        "id": "DLq5-bNEBN7D"
      },
      "source": [
        "#Basic Exercises"
      ]
    },
    {
      "cell_type": "markdown",
      "source": [
        "Ex: Write a function that returns True if all the elements in the input list are even"
      ],
      "metadata": {
        "id": "OMPyHa_tnXTz"
      }
    },
    {
      "cell_type": "code",
      "source": [
        "def all_elements_even(list_of_numbers):\n",
        "    for element in list_of_numbers:\n",
        "        if element % 2 != 0:\n",
        "            return False\n",
        "            \n",
        "    return True"
      ],
      "metadata": {
        "id": "Suv-wJDEnX2f"
      },
      "execution_count": null,
      "outputs": []
    },
    {
      "cell_type": "code",
      "source": [
        "def a_solution(l):\n",
        "    a_list = []\n",
        "    for number in l:\n",
        "        if number %2 == 0:\n",
        "            a_list.append(number)\n",
        "    \n",
        "    if len(a_list) == len(l):\n",
        "        return True\n",
        "\n",
        "    return False"
      ],
      "metadata": {
        "id": "qVB7GKQbq3xA"
      },
      "execution_count": null,
      "outputs": []
    },
    {
      "cell_type": "code",
      "source": [
        "all_elements_even([1,2,3])"
      ],
      "metadata": {
        "colab": {
          "base_uri": "https://localhost:8080/"
        },
        "id": "XNuiAntXpppz",
        "outputId": "5a83a7ed-bf5e-41b5-892e-e2d65a3f30b3"
      },
      "execution_count": null,
      "outputs": [
        {
          "output_type": "execute_result",
          "data": {
            "text/plain": [
              "False"
            ]
          },
          "metadata": {},
          "execution_count": 45
        }
      ]
    },
    {
      "cell_type": "code",
      "source": [
        "all_elements_even(generate_list_of_first_y_even_numbers(4000))"
      ],
      "metadata": {
        "colab": {
          "base_uri": "https://localhost:8080/"
        },
        "id": "m06ha3V9psQ1",
        "outputId": "1950af61-4f33-4456-b1b8-9ffec322e389"
      },
      "execution_count": null,
      "outputs": [
        {
          "output_type": "execute_result",
          "data": {
            "text/plain": [
              "True"
            ]
          },
          "metadata": {},
          "execution_count": 47
        }
      ]
    },
    {
      "cell_type": "markdown",
      "source": [
        "Ex: Write a function that returns the maximum value in a list"
      ],
      "metadata": {
        "id": "DI4EVh1LndiQ"
      }
    },
    {
      "cell_type": "code",
      "source": [
        "import numpy as np"
      ],
      "metadata": {
        "id": "oBvwj5yJXd4u",
        "outputId": "1d719da2-2e07-4119-e2ba-86d030f28616",
        "colab": {
          "base_uri": "https://localhost:8080/"
        }
      },
      "execution_count": null,
      "outputs": [
        {
          "output_type": "execute_result",
          "data": {
            "text/plain": [
              "array([8, 3, 4, 2, 4, 7, 7, 2, 5, 9])"
            ]
          },
          "metadata": {},
          "execution_count": 13
        }
      ]
    },
    {
      "cell_type": "code",
      "source": [
        "def max_val(l):\n",
        "  return max(l)"
      ],
      "metadata": {
        "id": "L7MKe7ASpSS0"
      },
      "execution_count": null,
      "outputs": []
    },
    {
      "cell_type": "code",
      "source": [
        "a = np.random.randint(1,10,10)\n",
        "print(a)\n",
        "max_val(a)"
      ],
      "metadata": {
        "id": "7tIwvs_tXY0H",
        "outputId": "3eef3233-c182-4b05-b30a-3bd68de964f8",
        "colab": {
          "base_uri": "https://localhost:8080/"
        }
      },
      "execution_count": null,
      "outputs": [
        {
          "output_type": "stream",
          "name": "stdout",
          "text": [
            "[5 4 4 7 1 8 8 6 4 4]\n"
          ]
        },
        {
          "output_type": "execute_result",
          "data": {
            "text/plain": [
              "8"
            ]
          },
          "metadata": {},
          "execution_count": 15
        }
      ]
    },
    {
      "cell_type": "markdown",
      "source": [
        "Ex: Write a function that returns the sum of all values in the list"
      ],
      "metadata": {
        "id": "FMEtK4_GnjeF"
      }
    },
    {
      "cell_type": "code",
      "source": [
        "def sum_of_el(l):\n",
        "  i = 0\n",
        "  for el in l:\n",
        "    i += el\n",
        "  return i"
      ],
      "metadata": {
        "id": "U2LP304Bnk-e"
      },
      "execution_count": null,
      "outputs": []
    },
    {
      "cell_type": "code",
      "source": [
        "a = list(np.random.randint(1,10,10))\n",
        "print(a)\n",
        "sum_of_el(a)"
      ],
      "metadata": {
        "id": "MKTPHVpVZS9X",
        "outputId": "807c27b0-1e78-419a-a94b-2d737cac49a4",
        "colab": {
          "base_uri": "https://localhost:8080/"
        }
      },
      "execution_count": null,
      "outputs": [
        {
          "output_type": "stream",
          "name": "stdout",
          "text": [
            "[4, 1, 5, 5, 9, 4, 1, 7, 7, 3]\n"
          ]
        },
        {
          "output_type": "execute_result",
          "data": {
            "text/plain": [
              "46"
            ]
          },
          "metadata": {},
          "execution_count": 67
        }
      ]
    },
    {
      "cell_type": "markdown",
      "source": [
        "Ex: Write a function that accepts a list of numbers as input and returns an inverted version of the liste"
      ],
      "metadata": {
        "id": "naK05N10pIQZ"
      }
    },
    {
      "cell_type": "code",
      "source": [
        "l = [1,2,3,4]\n",
        "print(l[0])\n",
        "print(l[-1])\n",
        "for i in range(len(l)):\n",
        "  print(-i-1)"
      ],
      "metadata": {
        "id": "LQldfwnTjSXZ",
        "outputId": "371e8972-3a80-4733-8f28-da3f450f68c6",
        "colab": {
          "base_uri": "https://localhost:8080/"
        }
      },
      "execution_count": null,
      "outputs": [
        {
          "output_type": "stream",
          "name": "stdout",
          "text": [
            "1\n",
            "4\n",
            "-1\n",
            "-2\n",
            "-3\n",
            "-4\n"
          ]
        }
      ]
    },
    {
      "cell_type": "code",
      "source": [
        "print(range(len(l)))"
      ],
      "metadata": {
        "id": "ioDblMIYkHEf",
        "outputId": "4fd83c0d-8a26-4d69-f0ca-3f7a1bfe88d8",
        "colab": {
          "base_uri": "https://localhost:8080/"
        }
      },
      "execution_count": null,
      "outputs": [
        {
          "output_type": "stream",
          "name": "stdout",
          "text": [
            "range(0, 4)\n"
          ]
        }
      ]
    },
    {
      "cell_type": "code",
      "source": [
        "print(type(range(len(l))))"
      ],
      "metadata": {
        "id": "Ef1D5HYBj6uB",
        "outputId": "6047f624-23ef-4b60-fdfe-ff42821acd53",
        "colab": {
          "base_uri": "https://localhost:8080/"
        }
      },
      "execution_count": null,
      "outputs": [
        {
          "output_type": "stream",
          "name": "stdout",
          "text": [
            "<class 'range'>\n"
          ]
        }
      ]
    },
    {
      "cell_type": "code",
      "source": [
        "def rev_list(l):\n",
        "  return [l[(-i-1)] for i in range(len(l))]"
      ],
      "metadata": {
        "id": "XtokVUhkpKBH"
      },
      "execution_count": null,
      "outputs": []
    },
    {
      "cell_type": "code",
      "source": [
        "a = list(np.random.randint(1,10,10))\n",
        "print(a)\n",
        "rev_list(a)"
      ],
      "metadata": {
        "id": "5IMe9x-LijkQ",
        "outputId": "3762643c-cb33-4085-bcca-d2b0b47390db",
        "colab": {
          "base_uri": "https://localhost:8080/"
        }
      },
      "execution_count": null,
      "outputs": [
        {
          "output_type": "stream",
          "name": "stdout",
          "text": [
            "[9, 6, 4, 1, 5, 5, 2, 1, 4, 4]\n"
          ]
        },
        {
          "output_type": "execute_result",
          "data": {
            "text/plain": [
              "[4, 4, 1, 2, 5, 5, 1, 4, 6, 9]"
            ]
          },
          "metadata": {},
          "execution_count": 112
        }
      ]
    },
    {
      "cell_type": "markdown",
      "source": [
        "Ex: Write a function that returns the first and last elements of a list"
      ],
      "metadata": {
        "id": "ZvJl7Z4tpNpz"
      }
    },
    {
      "cell_type": "code",
      "source": [
        "def first_and_last(l):\n",
        "  # return min(l), max(l)\n",
        "  return f'The min is {min(l)} and the max is {max(l)}'"
      ],
      "metadata": {
        "id": "K5YWRzs0pPRG"
      },
      "execution_count": null,
      "outputs": []
    },
    {
      "cell_type": "code",
      "source": [
        "a = list(np.random.randint(1,10,10))\n",
        "print(a)\n",
        "first_and_last(a)"
      ],
      "metadata": {
        "id": "a8hBvvvxkY9O",
        "outputId": "227c3af7-0568-4595-f6a1-19ae344b84ab",
        "colab": {
          "base_uri": "https://localhost:8080/",
          "height": 55
        }
      },
      "execution_count": null,
      "outputs": [
        {
          "output_type": "stream",
          "name": "stdout",
          "text": [
            "[2, 6, 8, 6, 3, 7, 4, 3, 8, 3]\n"
          ]
        },
        {
          "output_type": "execute_result",
          "data": {
            "text/plain": [
              "'The min is 2 and the max is 8'"
            ],
            "application/vnd.google.colaboratory.intrinsic+json": {
              "type": "string"
            }
          },
          "metadata": {},
          "execution_count": 111
        }
      ]
    },
    {
      "cell_type": "markdown",
      "source": [
        "Ex: Write a function that, given a, b, c, x as inputs, calculates ax^2 + bx + c"
      ],
      "metadata": {
        "id": "WkbRvEhVpR7_"
      }
    },
    {
      "cell_type": "code",
      "source": [
        "def regr(a,b,c,x):\n",
        "  return int(((a*x)**2 + (b*x) + c))"
      ],
      "metadata": {
        "id": "MnMIMWx8pTSR"
      },
      "execution_count": null,
      "outputs": []
    },
    {
      "cell_type": "code",
      "source": [
        "regr(1,2,3,4)"
      ],
      "metadata": {
        "id": "5gG7OTrJlGVp",
        "outputId": "65c27b1d-1c2e-4c9c-e192-7fec9ed9ca99",
        "colab": {
          "base_uri": "https://localhost:8080/"
        }
      },
      "execution_count": null,
      "outputs": [
        {
          "output_type": "execute_result",
          "data": {
            "text/plain": [
              "27"
            ]
          },
          "metadata": {},
          "execution_count": 115
        }
      ]
    },
    {
      "cell_type": "markdown",
      "source": [
        "Ex: Write a function to print the content of a dictionary in order by key"
      ],
      "metadata": {
        "id": "FLanVDjVpcph"
      }
    },
    {
      "cell_type": "code",
      "source": [
        "def order_dict(d:dict):\n",
        "  return sorted(dict.items(d))"
      ],
      "metadata": {
        "id": "Dzo1A2RJpd71"
      },
      "execution_count": null,
      "outputs": []
    },
    {
      "cell_type": "code",
      "source": [
        "d = {'a':1, 'c':2, 'b':3}\n",
        "order_dict(d)"
      ],
      "metadata": {
        "id": "T6mVTFjQrxDB",
        "outputId": "87d10bf8-8aca-4d4a-a577-c178d71b8b77",
        "colab": {
          "base_uri": "https://localhost:8080/"
        }
      },
      "execution_count": null,
      "outputs": [
        {
          "output_type": "execute_result",
          "data": {
            "text/plain": [
              "[('a', 1), ('b', 3), ('c', 2)]"
            ]
          },
          "metadata": {},
          "execution_count": 130
        }
      ]
    },
    {
      "cell_type": "code",
      "source": [
        "d = {1:'a', 2:'c', 3:'b'}\n",
        "order_dict(d)"
      ],
      "metadata": {
        "id": "-yydZNYQtmc0",
        "outputId": "378d5c9f-7be6-4fc2-da4b-1913141903d4",
        "colab": {
          "base_uri": "https://localhost:8080/"
        }
      },
      "execution_count": null,
      "outputs": [
        {
          "output_type": "execute_result",
          "data": {
            "text/plain": [
              "[(1, 'a'), (2, 'c'), (3, 'b')]"
            ]
          },
          "metadata": {},
          "execution_count": 131
        }
      ]
    },
    {
      "cell_type": "markdown",
      "source": [
        "Ex: Write a function to find all keys in the provided dictionary that have a given value"
      ],
      "metadata": {
        "id": "TRcM_FGNphrf"
      }
    },
    {
      "cell_type": "code",
      "source": [
        "def find_key(d,v):\n",
        "  final = []\n",
        "  for el in d.items():\n",
        "    if el[1] == v:\n",
        "      final.append(el[0]) \n",
        "  return final"
      ],
      "metadata": {
        "id": "zoKf_W7hpkuc"
      },
      "execution_count": null,
      "outputs": []
    },
    {
      "cell_type": "code",
      "source": [
        "def find_key(d,v):\n",
        "  return [el[0] for el in d.items() if el[1]==v]"
      ],
      "metadata": {
        "id": "XbXIr2iuwgAp"
      },
      "execution_count": null,
      "outputs": []
    },
    {
      "cell_type": "code",
      "source": [
        "d = {'a':1, 'c':2, 'b':3, 'd':2}\n",
        "find_key(d,2)"
      ],
      "metadata": {
        "id": "fJD_gI9YuzeH",
        "outputId": "0bd7bb95-0f04-4d46-8b61-910542ee31f7",
        "colab": {
          "base_uri": "https://localhost:8080/"
        }
      },
      "execution_count": null,
      "outputs": [
        {
          "output_type": "execute_result",
          "data": {
            "text/plain": [
              "['c', 'd']"
            ]
          },
          "metadata": {},
          "execution_count": 158
        }
      ]
    },
    {
      "cell_type": "markdown",
      "source": [
        "Ex: Write a function to sort a tuple by its float element"
      ],
      "metadata": {
        "id": "KGSPejWrpofK"
      }
    },
    {
      "cell_type": "code",
      "source": [
        "def return_float(t):\n",
        "  return sorted(t, key=lambda x: float(x), reverse=False)"
      ],
      "metadata": {
        "id": "X1opbop-7psd"
      },
      "execution_count": null,
      "outputs": []
    },
    {
      "cell_type": "code",
      "source": [
        "a = (7.40, 4, 5.50, 1.10, 2.30)\n",
        "return_float(a)"
      ],
      "metadata": {
        "id": "mz9aaYx6-K-n",
        "outputId": "8740b60e-87f9-43c9-8800-57dce60d21a3",
        "colab": {
          "base_uri": "https://localhost:8080/"
        }
      },
      "execution_count": null,
      "outputs": [
        {
          "output_type": "execute_result",
          "data": {
            "text/plain": [
              "[1.1, 2.3, 4, 5.5, 7.4]"
            ]
          },
          "metadata": {},
          "execution_count": 171
        }
      ]
    },
    {
      "cell_type": "code",
      "source": [],
      "metadata": {
        "id": "WsHwVWDP-RAW"
      },
      "execution_count": null,
      "outputs": []
    }
  ]
}