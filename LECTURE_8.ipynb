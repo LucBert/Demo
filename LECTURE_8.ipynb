{
  "nbformat": 4,
  "nbformat_minor": 0,
  "metadata": {
    "colab": {
      "provenance": [],
      "include_colab_link": true
    },
    "kernelspec": {
      "name": "python3",
      "display_name": "Python 3"
    },
    "language_info": {
      "name": "python"
    }
  },
  "cells": [
    {
      "cell_type": "markdown",
      "metadata": {
        "id": "view-in-github",
        "colab_type": "text"
      },
      "source": [
        "<a href=\"https://colab.research.google.com/github/LucBert/Demo/blob/main/LECTURE_8.ipynb\" target=\"_parent\"><img src=\"https://colab.research.google.com/assets/colab-badge.svg\" alt=\"Open In Colab\"/></a>"
      ]
    },
    {
      "cell_type": "markdown",
      "metadata": {
        "id": "ctMJXxf_peGm"
      },
      "source": [
        "#Python Language Advanced"
      ]
    },
    {
      "cell_type": "markdown",
      "source": [
        "- Objects\n",
        "    - Inheritance"
      ],
      "metadata": {
        "id": "2nidIQO2Ts-l"
      }
    },
    {
      "cell_type": "code",
      "source": [
        "class Person:\n",
        "    def __init__(self, name, surname, age):\n",
        "        self.name = name\n",
        "        self.surname = surname\n",
        "        self.age = age\n",
        "\n",
        "    def __eq__(self, other):\n",
        "        return self.name == other.name and self.surname == other.surname \n"
      ],
      "metadata": {
        "id": "5GlcmKOZvp0m"
      },
      "execution_count": null,
      "outputs": []
    },
    {
      "cell_type": "code",
      "source": [
        "p1 = Person('Nick', 'Marastoni', 39)\n",
        "p2 = Person('Nick', 'Marastoni', 39)"
      ],
      "metadata": {
        "id": "OlJdfGEOwABE"
      },
      "execution_count": null,
      "outputs": []
    },
    {
      "cell_type": "code",
      "source": [
        "p1 == p2"
      ],
      "metadata": {
        "colab": {
          "base_uri": "https://localhost:8080/"
        },
        "id": "Mea0VGQCwxo3",
        "outputId": "f9c3b261-dc5c-46bf-df39-14aa706d2123"
      },
      "execution_count": null,
      "outputs": [
        {
          "output_type": "execute_result",
          "data": {
            "text/plain": [
              "True"
            ]
          },
          "metadata": {},
          "execution_count": 8
        }
      ]
    },
    {
      "cell_type": "code",
      "source": [
        "class Student:\n",
        "    def __init__(self, name, surname, age, student_id):\n",
        "        self.name = name\n",
        "        self.surname = surname\n",
        "        self.age = age\n",
        "        self.student_id = student_id\n",
        "\n",
        "    def __eq__(self, other):\n",
        "        return self.name == other.name and self.surname == other.surname and self.age == other.age and self.student_id == other.student_id\n"
      ],
      "metadata": {
        "id": "RVkwvUPrwHt4"
      },
      "execution_count": null,
      "outputs": []
    },
    {
      "cell_type": "code",
      "source": [
        "s1 = Student('Nick', 'Marastoni', 39, 'VR365485')\n",
        "s2 = Student('Nick', 'Marastoni', 39, 'VR381673')"
      ],
      "metadata": {
        "id": "pkQRWKbPxs-T"
      },
      "execution_count": null,
      "outputs": []
    },
    {
      "cell_type": "code",
      "source": [
        "s1 == s2"
      ],
      "metadata": {
        "colab": {
          "base_uri": "https://localhost:8080/"
        },
        "id": "V1dh-NzLx8Eg",
        "outputId": "4594e6ae-4fa7-4847-b02e-5736ea0c350b"
      },
      "execution_count": null,
      "outputs": [
        {
          "output_type": "execute_result",
          "data": {
            "text/plain": [
              "False"
            ]
          },
          "metadata": {},
          "execution_count": 17
        }
      ]
    },
    {
      "cell_type": "code",
      "source": [
        "class Student(Person):\n",
        "    def __init__(self, name, surname, age, student_id):\n",
        "        super().__init__(name, surname, age)\n",
        "        self.student_id = student_id"
      ],
      "metadata": {
        "id": "ukTgqmzby7Ke"
      },
      "execution_count": null,
      "outputs": []
    },
    {
      "cell_type": "code",
      "source": [
        "s1 = Student('Nick', 'Marastoni', 39, 'VR365485')\n",
        "s2 = Student('Nick', 'Marastoni', 39, 'VR381673')"
      ],
      "metadata": {
        "id": "H_8nR5jd0dEm"
      },
      "execution_count": null,
      "outputs": []
    },
    {
      "cell_type": "code",
      "source": [
        "s1 == s2"
      ],
      "metadata": {
        "colab": {
          "base_uri": "https://localhost:8080/"
        },
        "id": "ueHQ_zJ60wk-",
        "outputId": "99f7ea77-7384-4882-c435-22fed57d68d8"
      },
      "execution_count": null,
      "outputs": [
        {
          "output_type": "execute_result",
          "data": {
            "text/plain": [
              "True"
            ]
          },
          "metadata": {},
          "execution_count": 28
        }
      ]
    },
    {
      "cell_type": "code",
      "source": [
        "p1 == s1"
      ],
      "metadata": {
        "colab": {
          "base_uri": "https://localhost:8080/"
        },
        "id": "jMbwWyaQ1Nh-",
        "outputId": "be4d130b-99f6-4191-d237-e2f6274d0867"
      },
      "execution_count": null,
      "outputs": [
        {
          "output_type": "execute_result",
          "data": {
            "text/plain": [
              "True"
            ]
          },
          "metadata": {},
          "execution_count": 31
        }
      ]
    },
    {
      "cell_type": "code",
      "source": [
        "class Student(Person):\n",
        "    def __init__(self, name, surname, age, student_id):\n",
        "        super().__init__(name, surname, age)\n",
        "        self.student_id = student_id\n",
        "\n",
        "    def __eq__(self, other):\n",
        "        return super().__eq__(other) and self.student_id == other.student_id"
      ],
      "metadata": {
        "id": "Tq_O3oMq2RLP"
      },
      "execution_count": null,
      "outputs": []
    },
    {
      "cell_type": "code",
      "source": [
        "s1 = Student('Nick', 'Marastoni', 38, 'VR381673')\n",
        "s2 = Student('Nick', 'Marastoni', 39, 'VR381673')"
      ],
      "metadata": {
        "id": "rN8DmlYW263Y"
      },
      "execution_count": null,
      "outputs": []
    },
    {
      "cell_type": "code",
      "source": [
        "s1 == s2"
      ],
      "metadata": {
        "colab": {
          "base_uri": "https://localhost:8080/"
        },
        "id": "3tU11m6R286b",
        "outputId": "9aa61857-b841-4027-f43b-61b4c46f890b"
      },
      "execution_count": null,
      "outputs": [
        {
          "output_type": "execute_result",
          "data": {
            "text/plain": [
              "True"
            ]
          },
          "metadata": {},
          "execution_count": 43
        }
      ]
    },
    {
      "cell_type": "code",
      "source": [
        "class Professor(Person):\n",
        "    def __init__(self, name, surname, age, contract_type):\n",
        "        super().__init__(name, surname, age)\n",
        "        self.contract_type = contract_type\n",
        "\n",
        "    def promotion(self):\n",
        "        self.contract_type = 'full professor'\n",
        "\n",
        "    "
      ],
      "metadata": {
        "id": "3Z0XC4Ua4Xl-"
      },
      "execution_count": null,
      "outputs": []
    },
    {
      "cell_type": "code",
      "source": [
        "p1 = Professor('Nick', 'Marastoni', 39, 'assocciate professor')\n",
        "p2 = Professor('Nick', 'Marastoni', 37, 'assocciate professor')"
      ],
      "metadata": {
        "id": "N0vmSy6y40m0"
      },
      "execution_count": null,
      "outputs": []
    },
    {
      "cell_type": "code",
      "source": [
        "p2 == p1"
      ],
      "metadata": {
        "colab": {
          "base_uri": "https://localhost:8080/"
        },
        "id": "FPIICp6m5DbR",
        "outputId": "05ff0db1-fd97-4764-c38d-32008aa59113"
      },
      "execution_count": null,
      "outputs": [
        {
          "output_type": "execute_result",
          "data": {
            "text/plain": [
              "True"
            ]
          },
          "metadata": {},
          "execution_count": 47
        }
      ]
    },
    {
      "cell_type": "code",
      "source": [
        "s1 == p1"
      ],
      "metadata": {
        "colab": {
          "base_uri": "https://localhost:8080/",
          "height": 258
        },
        "id": "BRHX8vTJ49xw",
        "outputId": "e7bb27c7-76e2-4db8-a929-3dd32666aa54"
      },
      "execution_count": null,
      "outputs": [
        {
          "output_type": "error",
          "ename": "AttributeError",
          "evalue": "ignored",
          "traceback": [
            "\u001b[0;31m---------------------------------------------------------------------------\u001b[0m",
            "\u001b[0;31mAttributeError\u001b[0m                            Traceback (most recent call last)",
            "\u001b[0;32m<ipython-input-52-db87a9ef90ee>\u001b[0m in \u001b[0;36m<module>\u001b[0;34m\u001b[0m\n\u001b[0;32m----> 1\u001b[0;31m \u001b[0ms1\u001b[0m \u001b[0;34m==\u001b[0m \u001b[0mp1\u001b[0m\u001b[0;34m\u001b[0m\u001b[0;34m\u001b[0m\u001b[0m\n\u001b[0m",
            "\u001b[0;32m<ipython-input-39-cc9ac89312db>\u001b[0m in \u001b[0;36m__eq__\u001b[0;34m(self, other)\u001b[0m\n\u001b[1;32m      5\u001b[0m \u001b[0;34m\u001b[0m\u001b[0m\n\u001b[1;32m      6\u001b[0m     \u001b[0;32mdef\u001b[0m \u001b[0m__eq__\u001b[0m\u001b[0;34m(\u001b[0m\u001b[0mself\u001b[0m\u001b[0;34m,\u001b[0m \u001b[0mother\u001b[0m\u001b[0;34m)\u001b[0m\u001b[0;34m:\u001b[0m\u001b[0;34m\u001b[0m\u001b[0;34m\u001b[0m\u001b[0m\n\u001b[0;32m----> 7\u001b[0;31m         \u001b[0;32mreturn\u001b[0m \u001b[0msuper\u001b[0m\u001b[0;34m(\u001b[0m\u001b[0;34m)\u001b[0m\u001b[0;34m.\u001b[0m\u001b[0m__eq__\u001b[0m\u001b[0;34m(\u001b[0m\u001b[0mother\u001b[0m\u001b[0;34m)\u001b[0m \u001b[0;32mand\u001b[0m \u001b[0mself\u001b[0m\u001b[0;34m.\u001b[0m\u001b[0mstudent_id\u001b[0m \u001b[0;34m==\u001b[0m \u001b[0mother\u001b[0m\u001b[0;34m.\u001b[0m\u001b[0mstudent_id\u001b[0m\u001b[0;34m\u001b[0m\u001b[0;34m\u001b[0m\u001b[0m\n\u001b[0m",
            "\u001b[0;31mAttributeError\u001b[0m: 'Professor' object has no attribute 'student_id'"
          ]
        }
      ]
    },
    {
      "cell_type": "code",
      "source": [
        "class Student(Person):\n",
        "    def __init__(self, name, surname, age, student_id):\n",
        "        super().__init__(name, surname, age)\n",
        "        self.student_id = student_id\n",
        "\n",
        "    def __eq__(self, other):\n",
        "        return super().__eq__(other) and type(self) == type(other) and self.student_id == other.student_id"
      ],
      "metadata": {
        "id": "m4h6kdfP5y6R"
      },
      "execution_count": null,
      "outputs": []
    },
    {
      "cell_type": "code",
      "source": [
        "s1 = Student('Nick', 'Marastoni', 38, 'VR381673')"
      ],
      "metadata": {
        "id": "qVIjRGrp6RHh"
      },
      "execution_count": null,
      "outputs": []
    },
    {
      "cell_type": "code",
      "source": [
        "s1 == p1"
      ],
      "metadata": {
        "colab": {
          "base_uri": "https://localhost:8080/"
        },
        "id": "ZC6BhMhF6SOe",
        "outputId": "73ab456a-f626-449d-c4c1-069ed559b339"
      },
      "execution_count": null,
      "outputs": [
        {
          "output_type": "execute_result",
          "data": {
            "text/plain": [
              "False"
            ]
          },
          "metadata": {},
          "execution_count": 62
        }
      ]
    },
    {
      "cell_type": "markdown",
      "metadata": {
        "id": "ajWGyaKlBF1H"
      },
      "source": [
        "- Reading documentation\n",
        "- Exceptions \n",
        "    - Reading errors"
      ]
    },
    {
      "cell_type": "code",
      "source": [
        "def divide_numbers(num_1, num_2):\n",
        "    result = 0\n",
        "    try:\n",
        "        result = num_1 / num_2\n",
        "    except:\n",
        "        return 0\n",
        "    finally:\n",
        "        print('always compute')\n",
        "    return result"
      ],
      "metadata": {
        "id": "Naa_rtVnTrrM"
      },
      "execution_count": null,
      "outputs": []
    },
    {
      "cell_type": "code",
      "source": [
        "for i in [1,2,0,4,7]:\n",
        "    print(divide_numbers(28, i))"
      ],
      "metadata": {
        "colab": {
          "base_uri": "https://localhost:8080/"
        },
        "id": "DrLG9HPA8r_d",
        "outputId": "424657bc-020b-4fe9-f27a-e9a332d31d89"
      },
      "execution_count": null,
      "outputs": [
        {
          "output_type": "stream",
          "name": "stdout",
          "text": [
            "always compute\n",
            "28.0\n",
            "always compute\n",
            "14.0\n",
            "always compute\n",
            "0\n",
            "always compute\n",
            "7.0\n",
            "always compute\n",
            "4.0\n"
          ]
        }
      ]
    },
    {
      "cell_type": "code",
      "source": [
        "f = open('sample_data/anscombe.json')"
      ],
      "metadata": {
        "id": "P0nvUfGv95Pr"
      },
      "execution_count": null,
      "outputs": []
    },
    {
      "cell_type": "code",
      "source": [
        "f.readline()"
      ],
      "metadata": {
        "colab": {
          "base_uri": "https://localhost:8080/",
          "height": 36
        },
        "id": "UrFjUU_f_B9b",
        "outputId": "88fcd852-008d-477e-82f5-1e3a1b6f07ed"
      },
      "execution_count": null,
      "outputs": [
        {
          "output_type": "execute_result",
          "data": {
            "text/plain": [
              "'  {\"Series\":\"I\", \"X\":8.0, \"Y\":6.95},\\n'"
            ],
            "application/vnd.google.colaboratory.intrinsic+json": {
              "type": "string"
            }
          },
          "metadata": {},
          "execution_count": 81
        }
      ]
    },
    {
      "cell_type": "code",
      "source": [
        "f.close()"
      ],
      "metadata": {
        "id": "VoYh-wLD_Vin"
      },
      "execution_count": null,
      "outputs": []
    },
    {
      "cell_type": "code",
      "source": [
        "f.readline()"
      ],
      "metadata": {
        "colab": {
          "base_uri": "https://localhost:8080/",
          "height": 169
        },
        "id": "kpxUL2ns_XjT",
        "outputId": "04bcced8-6174-455d-842e-8d65970f60a9"
      },
      "execution_count": null,
      "outputs": [
        {
          "output_type": "error",
          "ename": "ValueError",
          "evalue": "ignored",
          "traceback": [
            "\u001b[0;31m---------------------------------------------------------------------------\u001b[0m",
            "\u001b[0;31mValueError\u001b[0m                                Traceback (most recent call last)",
            "\u001b[0;32m<ipython-input-83-7e1d2e12b839>\u001b[0m in \u001b[0;36m<module>\u001b[0;34m\u001b[0m\n\u001b[0;32m----> 1\u001b[0;31m \u001b[0mf\u001b[0m\u001b[0;34m.\u001b[0m\u001b[0mreadline\u001b[0m\u001b[0;34m(\u001b[0m\u001b[0;34m)\u001b[0m\u001b[0;34m\u001b[0m\u001b[0;34m\u001b[0m\u001b[0m\n\u001b[0m",
            "\u001b[0;31mValueError\u001b[0m: I/O operation on closed file."
          ]
        }
      ]
    },
    {
      "cell_type": "code",
      "source": [
        "def read_lines(filename):\n",
        "    f = open(filename)\n",
        "    try:\n",
        "        print(f.readline())\n",
        "    except:\n",
        "        return\n",
        "    finally:\n",
        "        f.close()\n"
      ],
      "metadata": {
        "id": "AMuHanJQ_gSn"
      },
      "execution_count": null,
      "outputs": []
    },
    {
      "cell_type": "markdown",
      "metadata": {
        "id": "yQdKfdi8BbBA"
      },
      "source": [
        "#Advanced Exercises"
      ]
    },
    {
      "cell_type": "markdown",
      "metadata": {
        "id": "e5TW_waHBpv6"
      },
      "source": [
        "1. Write a function that takes a list of tuples (see example) and return a list of objects that have the same data.    \n",
        "list = [('Nick', 38, 'professor'), ('Mark', 23, 'student'), ('Elsa', 43, 'janitor'), ('Richard', 56, 'bus driver'), ('Frank', 72, 'trash man')]\n",
        "\n",
        "2. Write a function that orders the previously generated list of objects in reverse alphabetical order (by name), using sorted and Lambda.    \n",
        "2. Write a function to square and cube every number in a given list of integers, and one to cube every number. Both using Lambda.     \n",
        "list = [12, 32, 52, 226, 63, 85, 47, 9]\n",
        "\n",
        "3. Write a Triangle object that can be constructed by three points in space    \n",
        "    a. Define a method for the perimeter of the triangle    \n",
        "    b. Write an appropriate \\_\\_repr__ function   \n",
        "    c. Write an appropriate \\_\\_eq__ function so that two triangles are equal if their sides are equal\n",
        "4. Write a function to list only i) directories, ii) files and ii) all directories, files in a specified path\n",
        "5. Write a function that renames a file. Both old name and new name are passed as inputs.    \n",
        "Bonus: if the original file doesn't exist, create the renamed file.\n",
        "6. Write a function that takes a filename and a string as input and writes that string in the file.\n"
      ]
    },
    {
      "cell_type": "code",
      "source": [],
      "metadata": {
        "id": "YMTXeT3rmI5D"
      },
      "execution_count": null,
      "outputs": []
    },
    {
      "cell_type": "code",
      "source": [
        "# Exercise 6: Write a function that renames a file. Both old name and new name are passed as inputs.\n",
        "# Bonus: if the original file doesn't exist, create the renamed file.\n",
        "\n",
        "\n",
        "from genericpath import isfile\n",
        "import os\n",
        "def rename_file(o,n):\n",
        "  if os.path.isfile(o):\n",
        "    return os.rename(o,n)"
      ],
      "metadata": {
        "id": "Y6-S__iUkOvg"
      },
      "execution_count": null,
      "outputs": []
    },
    {
      "cell_type": "code",
      "source": [
        "f = open('test.txt', 'x')"
      ],
      "metadata": {
        "colab": {
          "base_uri": "https://localhost:8080/",
          "height": 172
        },
        "id": "awj8Fo_jkbL_",
        "outputId": "2abb5aca-c431-4b57-bd9c-60e31148b3f1"
      },
      "execution_count": null,
      "outputs": [
        {
          "output_type": "error",
          "ename": "FileExistsError",
          "evalue": "ignored",
          "traceback": [
            "\u001b[0;31m---------------------------------------------------------------------------\u001b[0m",
            "\u001b[0;31mFileExistsError\u001b[0m                           Traceback (most recent call last)",
            "\u001b[0;32m<ipython-input-14-054de7a5361e>\u001b[0m in \u001b[0;36m<module>\u001b[0;34m\u001b[0m\n\u001b[0;32m----> 1\u001b[0;31m \u001b[0mf\u001b[0m \u001b[0;34m=\u001b[0m \u001b[0mopen\u001b[0m\u001b[0;34m(\u001b[0m\u001b[0;34m'test.txt'\u001b[0m\u001b[0;34m,\u001b[0m \u001b[0;34m'x'\u001b[0m\u001b[0;34m)\u001b[0m\u001b[0;34m\u001b[0m\u001b[0;34m\u001b[0m\u001b[0m\n\u001b[0m",
            "\u001b[0;31mFileExistsError\u001b[0m: [Errno 17] File exists: 'test.txt'"
          ]
        }
      ]
    },
    {
      "cell_type": "code",
      "source": [
        "os.listdir()"
      ],
      "metadata": {
        "colab": {
          "base_uri": "https://localhost:8080/"
        },
        "id": "scQvgnkolPqY",
        "outputId": "d0014bc0-99d9-4836-b6ad-94626478176f"
      },
      "execution_count": null,
      "outputs": [
        {
          "output_type": "execute_result",
          "data": {
            "text/plain": [
              "['.config', 'test.txt', 'Test', 'sample_data']"
            ]
          },
          "metadata": {},
          "execution_count": 15
        }
      ]
    },
    {
      "cell_type": "code",
      "source": [
        "rename_file('test.txt', 'renamed_file.txt')"
      ],
      "metadata": {
        "id": "SnZys3fylRM2"
      },
      "execution_count": null,
      "outputs": []
    },
    {
      "cell_type": "code",
      "source": [
        "os.listdir()"
      ],
      "metadata": {
        "colab": {
          "base_uri": "https://localhost:8080/"
        },
        "id": "33QmkkgKlk1C",
        "outputId": "90248b14-5e07-4122-a23b-c096b53054dc"
      },
      "execution_count": null,
      "outputs": [
        {
          "output_type": "execute_result",
          "data": {
            "text/plain": [
              "['.config', 'renamed_file.txt', 'Test', 'sample_data']"
            ]
          },
          "metadata": {},
          "execution_count": 17
        }
      ]
    },
    {
      "cell_type": "code",
      "source": [
        "# Exercise 7: Write a function that takes a filename and a string as input and writes that string in the file.\n",
        "def write_on_file(f,s):\n",
        "  with open(f,'w') as f:\n",
        "    f.write(s)"
      ],
      "metadata": {
        "id": "3EmnSif6mDU_"
      },
      "execution_count": null,
      "outputs": []
    },
    {
      "cell_type": "code",
      "source": [
        "write_on_file('renamed_file.txt','This is a new string writed with open constuct')"
      ],
      "metadata": {
        "id": "empVcpwPnHNy"
      },
      "execution_count": null,
      "outputs": []
    },
    {
      "cell_type": "code",
      "source": [
        "with open('renamed_file.txt') as f:\n",
        "  lines = f.readlines()\n",
        "lines"
      ],
      "metadata": {
        "colab": {
          "base_uri": "https://localhost:8080/"
        },
        "id": "hyFoXT7EnlQT",
        "outputId": "a4e80ac8-29aa-486b-8a45-53b28cb4777b"
      },
      "execution_count": null,
      "outputs": [
        {
          "output_type": "execute_result",
          "data": {
            "text/plain": [
              "['This is a new string writed with open constuct']"
            ]
          },
          "metadata": {},
          "execution_count": 23
        }
      ]
    },
    {
      "cell_type": "code",
      "source": [],
      "metadata": {
        "id": "zagHU6OMoAWv"
      },
      "execution_count": null,
      "outputs": []
    }
  ]
}