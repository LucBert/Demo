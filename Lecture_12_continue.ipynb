{
  "nbformat": 4,
  "nbformat_minor": 0,
  "metadata": {
    "colab": {
      "provenance": [],
      "collapsed_sections": [
        "pBuxXYyX1Y5J",
        "wtLr5TLgTfex",
        "shJkLGqdTnul"
      ],
      "include_colab_link": true
    },
    "kernelspec": {
      "name": "python3",
      "display_name": "Python 3"
    },
    "language_info": {
      "name": "python"
    }
  },
  "cells": [
    {
      "cell_type": "markdown",
      "metadata": {
        "id": "view-in-github",
        "colab_type": "text"
      },
      "source": [
        "<a href=\"https://colab.research.google.com/github/LucBert/Demo/blob/main/Lecture_12_continue.ipynb\" target=\"_parent\"><img src=\"https://colab.research.google.com/assets/colab-badge.svg\" alt=\"Open In Colab\"/></a>"
      ]
    },
    {
      "cell_type": "markdown",
      "source": [
        "# Real data"
      ],
      "metadata": {
        "id": "735HrpLHTVdI"
      }
    },
    {
      "cell_type": "markdown",
      "source": [
        "##Recap real data (read html)"
      ],
      "metadata": {
        "id": "pBuxXYyX1Y5J"
      }
    },
    {
      "cell_type": "code",
      "source": [
        "import pandas as pd"
      ],
      "metadata": {
        "id": "Qf-tvSmi87TN"
      },
      "execution_count": null,
      "outputs": []
    },
    {
      "cell_type": "code",
      "source": [
        "wiki_list = pd.read_html('https://en.wikipedia.org/wiki/List_of_actors_with_two_or_more_Academy_Awards_in_acting_categories')\n",
        "wiki_df = wiki_list[0]"
      ],
      "metadata": {
        "id": "tRjzaWHK99lj"
      },
      "execution_count": null,
      "outputs": []
    },
    {
      "cell_type": "code",
      "source": [
        "wiki_df.head()"
      ],
      "metadata": {
        "colab": {
          "base_uri": "https://localhost:8080/",
          "height": 354
        },
        "id": "ZoXzk8QZ-J1y",
        "outputId": "4469e597-1d20-406e-d9ff-14804338592d"
      },
      "execution_count": null,
      "outputs": [
        {
          "output_type": "execute_result",
          "data": {
            "text/plain": [
              "         Actor/Actress                          Best Actor/Actress Awards  \\\n",
              "0  Katharine Hepburn †  Morning Glory (1933) Guess Who's Coming to Din...   \n",
              "1         Meryl Streep        Sophie's Choice (1982) The Iron Lady (2011)   \n",
              "2       Jack Nicholson  One Flew Over the Cuckoo's Nest (1975) As Good...   \n",
              "3     Ingrid Bergman †                   Gaslight (1944) Anastasia (1956)   \n",
              "4     Daniel Day-Lewis  My Left Foot (1989) There Will Be Blood (2007)...   \n",
              "\n",
              "  Best Supporting Actor/Actress Awards  Total awards  Total nominations  \n",
              "0                                  NaN             4                 12  \n",
              "1             Kramer vs. Kramer (1979)             3                 21  \n",
              "2           Terms of Endearment (1983)             3                 12  \n",
              "3  Murder on the Orient Express (1974)             3                  7  \n",
              "4                                  NaN             3                  6  "
            ],
            "text/html": [
              "\n",
              "  <div id=\"df-3e915331-2290-43f9-b28e-db1424ff80f0\">\n",
              "    <div class=\"colab-df-container\">\n",
              "      <div>\n",
              "<style scoped>\n",
              "    .dataframe tbody tr th:only-of-type {\n",
              "        vertical-align: middle;\n",
              "    }\n",
              "\n",
              "    .dataframe tbody tr th {\n",
              "        vertical-align: top;\n",
              "    }\n",
              "\n",
              "    .dataframe thead th {\n",
              "        text-align: right;\n",
              "    }\n",
              "</style>\n",
              "<table border=\"1\" class=\"dataframe\">\n",
              "  <thead>\n",
              "    <tr style=\"text-align: right;\">\n",
              "      <th></th>\n",
              "      <th>Actor/Actress</th>\n",
              "      <th>Best Actor/Actress Awards</th>\n",
              "      <th>Best Supporting Actor/Actress Awards</th>\n",
              "      <th>Total awards</th>\n",
              "      <th>Total nominations</th>\n",
              "    </tr>\n",
              "  </thead>\n",
              "  <tbody>\n",
              "    <tr>\n",
              "      <th>0</th>\n",
              "      <td>Katharine Hepburn †</td>\n",
              "      <td>Morning Glory (1933) Guess Who's Coming to Din...</td>\n",
              "      <td>NaN</td>\n",
              "      <td>4</td>\n",
              "      <td>12</td>\n",
              "    </tr>\n",
              "    <tr>\n",
              "      <th>1</th>\n",
              "      <td>Meryl Streep</td>\n",
              "      <td>Sophie's Choice (1982) The Iron Lady (2011)</td>\n",
              "      <td>Kramer vs. Kramer (1979)</td>\n",
              "      <td>3</td>\n",
              "      <td>21</td>\n",
              "    </tr>\n",
              "    <tr>\n",
              "      <th>2</th>\n",
              "      <td>Jack Nicholson</td>\n",
              "      <td>One Flew Over the Cuckoo's Nest (1975) As Good...</td>\n",
              "      <td>Terms of Endearment (1983)</td>\n",
              "      <td>3</td>\n",
              "      <td>12</td>\n",
              "    </tr>\n",
              "    <tr>\n",
              "      <th>3</th>\n",
              "      <td>Ingrid Bergman †</td>\n",
              "      <td>Gaslight (1944) Anastasia (1956)</td>\n",
              "      <td>Murder on the Orient Express (1974)</td>\n",
              "      <td>3</td>\n",
              "      <td>7</td>\n",
              "    </tr>\n",
              "    <tr>\n",
              "      <th>4</th>\n",
              "      <td>Daniel Day-Lewis</td>\n",
              "      <td>My Left Foot (1989) There Will Be Blood (2007)...</td>\n",
              "      <td>NaN</td>\n",
              "      <td>3</td>\n",
              "      <td>6</td>\n",
              "    </tr>\n",
              "  </tbody>\n",
              "</table>\n",
              "</div>\n",
              "      <button class=\"colab-df-convert\" onclick=\"convertToInteractive('df-3e915331-2290-43f9-b28e-db1424ff80f0')\"\n",
              "              title=\"Convert this dataframe to an interactive table.\"\n",
              "              style=\"display:none;\">\n",
              "        \n",
              "  <svg xmlns=\"http://www.w3.org/2000/svg\" height=\"24px\"viewBox=\"0 0 24 24\"\n",
              "       width=\"24px\">\n",
              "    <path d=\"M0 0h24v24H0V0z\" fill=\"none\"/>\n",
              "    <path d=\"M18.56 5.44l.94 2.06.94-2.06 2.06-.94-2.06-.94-.94-2.06-.94 2.06-2.06.94zm-11 1L8.5 8.5l.94-2.06 2.06-.94-2.06-.94L8.5 2.5l-.94 2.06-2.06.94zm10 10l.94 2.06.94-2.06 2.06-.94-2.06-.94-.94-2.06-.94 2.06-2.06.94z\"/><path d=\"M17.41 7.96l-1.37-1.37c-.4-.4-.92-.59-1.43-.59-.52 0-1.04.2-1.43.59L10.3 9.45l-7.72 7.72c-.78.78-.78 2.05 0 2.83L4 21.41c.39.39.9.59 1.41.59.51 0 1.02-.2 1.41-.59l7.78-7.78 2.81-2.81c.8-.78.8-2.07 0-2.86zM5.41 20L4 18.59l7.72-7.72 1.47 1.35L5.41 20z\"/>\n",
              "  </svg>\n",
              "      </button>\n",
              "      \n",
              "  <style>\n",
              "    .colab-df-container {\n",
              "      display:flex;\n",
              "      flex-wrap:wrap;\n",
              "      gap: 12px;\n",
              "    }\n",
              "\n",
              "    .colab-df-convert {\n",
              "      background-color: #E8F0FE;\n",
              "      border: none;\n",
              "      border-radius: 50%;\n",
              "      cursor: pointer;\n",
              "      display: none;\n",
              "      fill: #1967D2;\n",
              "      height: 32px;\n",
              "      padding: 0 0 0 0;\n",
              "      width: 32px;\n",
              "    }\n",
              "\n",
              "    .colab-df-convert:hover {\n",
              "      background-color: #E2EBFA;\n",
              "      box-shadow: 0px 1px 2px rgba(60, 64, 67, 0.3), 0px 1px 3px 1px rgba(60, 64, 67, 0.15);\n",
              "      fill: #174EA6;\n",
              "    }\n",
              "\n",
              "    [theme=dark] .colab-df-convert {\n",
              "      background-color: #3B4455;\n",
              "      fill: #D2E3FC;\n",
              "    }\n",
              "\n",
              "    [theme=dark] .colab-df-convert:hover {\n",
              "      background-color: #434B5C;\n",
              "      box-shadow: 0px 1px 3px 1px rgba(0, 0, 0, 0.15);\n",
              "      filter: drop-shadow(0px 1px 2px rgba(0, 0, 0, 0.3));\n",
              "      fill: #FFFFFF;\n",
              "    }\n",
              "  </style>\n",
              "\n",
              "      <script>\n",
              "        const buttonEl =\n",
              "          document.querySelector('#df-3e915331-2290-43f9-b28e-db1424ff80f0 button.colab-df-convert');\n",
              "        buttonEl.style.display =\n",
              "          google.colab.kernel.accessAllowed ? 'block' : 'none';\n",
              "\n",
              "        async function convertToInteractive(key) {\n",
              "          const element = document.querySelector('#df-3e915331-2290-43f9-b28e-db1424ff80f0');\n",
              "          const dataTable =\n",
              "            await google.colab.kernel.invokeFunction('convertToInteractive',\n",
              "                                                     [key], {});\n",
              "          if (!dataTable) return;\n",
              "\n",
              "          const docLinkHtml = 'Like what you see? Visit the ' +\n",
              "            '<a target=\"_blank\" href=https://colab.research.google.com/notebooks/data_table.ipynb>data table notebook</a>'\n",
              "            + ' to learn more about interactive tables.';\n",
              "          element.innerHTML = '';\n",
              "          dataTable['output_type'] = 'display_data';\n",
              "          await google.colab.output.renderOutput(dataTable, element);\n",
              "          const docLink = document.createElement('div');\n",
              "          docLink.innerHTML = docLinkHtml;\n",
              "          element.appendChild(docLink);\n",
              "        }\n",
              "      </script>\n",
              "    </div>\n",
              "  </div>\n",
              "  "
            ]
          },
          "metadata": {},
          "execution_count": 5
        }
      ]
    },
    {
      "cell_type": "code",
      "source": [
        "wiki_df.info()"
      ],
      "metadata": {
        "colab": {
          "base_uri": "https://localhost:8080/"
        },
        "id": "ERMTNYcs-Spe",
        "outputId": "060704e0-ab60-44e6-c007-6b5a419d04b7"
      },
      "execution_count": null,
      "outputs": [
        {
          "output_type": "stream",
          "name": "stdout",
          "text": [
            "<class 'pandas.core.frame.DataFrame'>\n",
            "RangeIndex: 44 entries, 0 to 43\n",
            "Data columns (total 5 columns):\n",
            " #   Column                                Non-Null Count  Dtype \n",
            "---  ------                                --------------  ----- \n",
            " 0   Actor/Actress                         44 non-null     object\n",
            " 1   Best Actor/Actress Awards             34 non-null     object\n",
            " 2   Best Supporting Actor/Actress Awards  23 non-null     object\n",
            " 3   Total awards                          44 non-null     int64 \n",
            " 4   Total nominations                     44 non-null     int64 \n",
            "dtypes: int64(2), object(3)\n",
            "memory usage: 1.8+ KB\n"
          ]
        }
      ]
    },
    {
      "cell_type": "code",
      "source": [
        "wiki_df.describe().T"
      ],
      "metadata": {
        "colab": {
          "base_uri": "https://localhost:8080/",
          "height": 112
        },
        "id": "t88v4Hxv-frZ",
        "outputId": "f40b71d2-6a45-42f3-f776-a15ad0a245c0"
      },
      "execution_count": null,
      "outputs": [
        {
          "output_type": "execute_result",
          "data": {
            "text/plain": [
              "                   count      mean       std  min  25%  50%  75%   max\n",
              "Total awards        44.0  2.181818  0.445793  2.0  2.0  2.0  2.0   4.0\n",
              "Total nominations   44.0  5.659091  3.497130  2.0  3.0  5.0  7.0  21.0"
            ],
            "text/html": [
              "\n",
              "  <div id=\"df-02014ba2-1e15-41f8-b125-7b40b5597214\">\n",
              "    <div class=\"colab-df-container\">\n",
              "      <div>\n",
              "<style scoped>\n",
              "    .dataframe tbody tr th:only-of-type {\n",
              "        vertical-align: middle;\n",
              "    }\n",
              "\n",
              "    .dataframe tbody tr th {\n",
              "        vertical-align: top;\n",
              "    }\n",
              "\n",
              "    .dataframe thead th {\n",
              "        text-align: right;\n",
              "    }\n",
              "</style>\n",
              "<table border=\"1\" class=\"dataframe\">\n",
              "  <thead>\n",
              "    <tr style=\"text-align: right;\">\n",
              "      <th></th>\n",
              "      <th>count</th>\n",
              "      <th>mean</th>\n",
              "      <th>std</th>\n",
              "      <th>min</th>\n",
              "      <th>25%</th>\n",
              "      <th>50%</th>\n",
              "      <th>75%</th>\n",
              "      <th>max</th>\n",
              "    </tr>\n",
              "  </thead>\n",
              "  <tbody>\n",
              "    <tr>\n",
              "      <th>Total awards</th>\n",
              "      <td>44.0</td>\n",
              "      <td>2.181818</td>\n",
              "      <td>0.445793</td>\n",
              "      <td>2.0</td>\n",
              "      <td>2.0</td>\n",
              "      <td>2.0</td>\n",
              "      <td>2.0</td>\n",
              "      <td>4.0</td>\n",
              "    </tr>\n",
              "    <tr>\n",
              "      <th>Total nominations</th>\n",
              "      <td>44.0</td>\n",
              "      <td>5.659091</td>\n",
              "      <td>3.497130</td>\n",
              "      <td>2.0</td>\n",
              "      <td>3.0</td>\n",
              "      <td>5.0</td>\n",
              "      <td>7.0</td>\n",
              "      <td>21.0</td>\n",
              "    </tr>\n",
              "  </tbody>\n",
              "</table>\n",
              "</div>\n",
              "      <button class=\"colab-df-convert\" onclick=\"convertToInteractive('df-02014ba2-1e15-41f8-b125-7b40b5597214')\"\n",
              "              title=\"Convert this dataframe to an interactive table.\"\n",
              "              style=\"display:none;\">\n",
              "        \n",
              "  <svg xmlns=\"http://www.w3.org/2000/svg\" height=\"24px\"viewBox=\"0 0 24 24\"\n",
              "       width=\"24px\">\n",
              "    <path d=\"M0 0h24v24H0V0z\" fill=\"none\"/>\n",
              "    <path d=\"M18.56 5.44l.94 2.06.94-2.06 2.06-.94-2.06-.94-.94-2.06-.94 2.06-2.06.94zm-11 1L8.5 8.5l.94-2.06 2.06-.94-2.06-.94L8.5 2.5l-.94 2.06-2.06.94zm10 10l.94 2.06.94-2.06 2.06-.94-2.06-.94-.94-2.06-.94 2.06-2.06.94z\"/><path d=\"M17.41 7.96l-1.37-1.37c-.4-.4-.92-.59-1.43-.59-.52 0-1.04.2-1.43.59L10.3 9.45l-7.72 7.72c-.78.78-.78 2.05 0 2.83L4 21.41c.39.39.9.59 1.41.59.51 0 1.02-.2 1.41-.59l7.78-7.78 2.81-2.81c.8-.78.8-2.07 0-2.86zM5.41 20L4 18.59l7.72-7.72 1.47 1.35L5.41 20z\"/>\n",
              "  </svg>\n",
              "      </button>\n",
              "      \n",
              "  <style>\n",
              "    .colab-df-container {\n",
              "      display:flex;\n",
              "      flex-wrap:wrap;\n",
              "      gap: 12px;\n",
              "    }\n",
              "\n",
              "    .colab-df-convert {\n",
              "      background-color: #E8F0FE;\n",
              "      border: none;\n",
              "      border-radius: 50%;\n",
              "      cursor: pointer;\n",
              "      display: none;\n",
              "      fill: #1967D2;\n",
              "      height: 32px;\n",
              "      padding: 0 0 0 0;\n",
              "      width: 32px;\n",
              "    }\n",
              "\n",
              "    .colab-df-convert:hover {\n",
              "      background-color: #E2EBFA;\n",
              "      box-shadow: 0px 1px 2px rgba(60, 64, 67, 0.3), 0px 1px 3px 1px rgba(60, 64, 67, 0.15);\n",
              "      fill: #174EA6;\n",
              "    }\n",
              "\n",
              "    [theme=dark] .colab-df-convert {\n",
              "      background-color: #3B4455;\n",
              "      fill: #D2E3FC;\n",
              "    }\n",
              "\n",
              "    [theme=dark] .colab-df-convert:hover {\n",
              "      background-color: #434B5C;\n",
              "      box-shadow: 0px 1px 3px 1px rgba(0, 0, 0, 0.15);\n",
              "      filter: drop-shadow(0px 1px 2px rgba(0, 0, 0, 0.3));\n",
              "      fill: #FFFFFF;\n",
              "    }\n",
              "  </style>\n",
              "\n",
              "      <script>\n",
              "        const buttonEl =\n",
              "          document.querySelector('#df-02014ba2-1e15-41f8-b125-7b40b5597214 button.colab-df-convert');\n",
              "        buttonEl.style.display =\n",
              "          google.colab.kernel.accessAllowed ? 'block' : 'none';\n",
              "\n",
              "        async function convertToInteractive(key) {\n",
              "          const element = document.querySelector('#df-02014ba2-1e15-41f8-b125-7b40b5597214');\n",
              "          const dataTable =\n",
              "            await google.colab.kernel.invokeFunction('convertToInteractive',\n",
              "                                                     [key], {});\n",
              "          if (!dataTable) return;\n",
              "\n",
              "          const docLinkHtml = 'Like what you see? Visit the ' +\n",
              "            '<a target=\"_blank\" href=https://colab.research.google.com/notebooks/data_table.ipynb>data table notebook</a>'\n",
              "            + ' to learn more about interactive tables.';\n",
              "          element.innerHTML = '';\n",
              "          dataTable['output_type'] = 'display_data';\n",
              "          await google.colab.output.renderOutput(dataTable, element);\n",
              "          const docLink = document.createElement('div');\n",
              "          docLink.innerHTML = docLinkHtml;\n",
              "          element.appendChild(docLink);\n",
              "        }\n",
              "      </script>\n",
              "    </div>\n",
              "  </div>\n",
              "  "
            ]
          },
          "metadata": {},
          "execution_count": 7
        }
      ]
    },
    {
      "cell_type": "markdown",
      "source": [
        "## map (columns)"
      ],
      "metadata": {
        "id": "wtLr5TLgTfex"
      }
    },
    {
      "cell_type": "code",
      "source": [
        "wiki_df.columns"
      ],
      "metadata": {
        "colab": {
          "base_uri": "https://localhost:8080/"
        },
        "id": "kMoPl-xE-tw5",
        "outputId": "dd2d90cf-4a34-4425-e8d4-00bac4038acd"
      },
      "execution_count": null,
      "outputs": [
        {
          "output_type": "execute_result",
          "data": {
            "text/plain": [
              "Index(['Actor/Actress', 'Best Actor/Actress Awards',\n",
              "       'Best Supporting Actor/Actress Awards', 'Total awards',\n",
              "       'Total nominations'],\n",
              "      dtype='object')"
            ]
          },
          "metadata": {},
          "execution_count": 9
        }
      ]
    },
    {
      "cell_type": "code",
      "source": [
        "worst_string = wiki_df.columns[1]"
      ],
      "metadata": {
        "id": "5FUFVayy-2dn"
      },
      "execution_count": null,
      "outputs": []
    },
    {
      "cell_type": "code",
      "source": [
        "worst_string.replace(' ', '_').replace('/','_').lower()"
      ],
      "metadata": {
        "colab": {
          "base_uri": "https://localhost:8080/",
          "height": 36
        },
        "id": "M4SvT1IP_BcF",
        "outputId": "516f8b9a-3473-4097-fa59-3f204f18ef6f"
      },
      "execution_count": null,
      "outputs": [
        {
          "output_type": "execute_result",
          "data": {
            "text/plain": [
              "'best_actor_actress_awards'"
            ],
            "application/vnd.google.colaboratory.intrinsic+json": {
              "type": "string"
            }
          },
          "metadata": {},
          "execution_count": 22
        }
      ]
    },
    {
      "cell_type": "code",
      "source": [
        "new_columns = []\n",
        "for column_name in wiki_df.columns:\n",
        "    new_column_name = column_name.replace(' ', '_').replace('/','_').lower()\n",
        "    new_columns.append(new_column_name)"
      ],
      "metadata": {
        "id": "K_bFoOYP_W1v"
      },
      "execution_count": null,
      "outputs": []
    },
    {
      "cell_type": "code",
      "source": [
        "new_columns"
      ],
      "metadata": {
        "colab": {
          "base_uri": "https://localhost:8080/"
        },
        "id": "Z3PH3vL5ATrG",
        "outputId": "96d4d57f-4ff8-494d-b4d6-4205786352bd"
      },
      "execution_count": null,
      "outputs": [
        {
          "output_type": "execute_result",
          "data": {
            "text/plain": [
              "['actor_actress',\n",
              " 'best_actor_actress_awards',\n",
              " 'best_supporting_actor_actress_awards',\n",
              " 'total_awards',\n",
              " 'total_nominations']"
            ]
          },
          "metadata": {},
          "execution_count": 24
        }
      ]
    },
    {
      "cell_type": "code",
      "source": [
        "new_columns = [x.replace(' ', '_').replace('/','_').lower() for x in wiki_df.columns]"
      ],
      "metadata": {
        "id": "v04RfWc4_pKR"
      },
      "execution_count": null,
      "outputs": []
    },
    {
      "cell_type": "code",
      "source": [
        "new_columns"
      ],
      "metadata": {
        "colab": {
          "base_uri": "https://localhost:8080/"
        },
        "id": "ViWtrc6hAqJS",
        "outputId": "f6211b43-6aa1-4a4c-c82a-c9f42c4e5075"
      },
      "execution_count": null,
      "outputs": [
        {
          "output_type": "execute_result",
          "data": {
            "text/plain": [
              "['actor_actress',\n",
              " 'best_actor_actress_awards',\n",
              " 'best_supporting_actor_actress_awards',\n",
              " 'total_awards',\n",
              " 'total_nominations']"
            ]
          },
          "metadata": {},
          "execution_count": 27
        }
      ]
    },
    {
      "cell_type": "code",
      "source": [
        "map(lambda x : x.replace(' ', '_').replace('/','_').lower(), wiki_df.columns)"
      ],
      "metadata": {
        "colab": {
          "base_uri": "https://localhost:8080/"
        },
        "id": "w_4GeWVbBsyz",
        "outputId": "77b56237-10a5-4101-9924-65a0b42dc74f"
      },
      "execution_count": null,
      "outputs": [
        {
          "output_type": "execute_result",
          "data": {
            "text/plain": [
              "<map at 0x7f090b5b5f90>"
            ]
          },
          "metadata": {},
          "execution_count": 31
        }
      ]
    },
    {
      "cell_type": "code",
      "source": [
        "new_columns = list(map(lambda x : x.replace(' ', '_').replace('/','_').lower(), wiki_df.columns))"
      ],
      "metadata": {
        "id": "-6Q3mSCMA6Ej"
      },
      "execution_count": null,
      "outputs": []
    },
    {
      "cell_type": "code",
      "source": [
        "new_columns"
      ],
      "metadata": {
        "colab": {
          "base_uri": "https://localhost:8080/"
        },
        "id": "tVpcW0qvBITj",
        "outputId": "da4662c4-e170-476e-e474-331aeedec791"
      },
      "execution_count": null,
      "outputs": [
        {
          "output_type": "execute_result",
          "data": {
            "text/plain": [
              "['actor_actress',\n",
              " 'best_actor_actress_awards',\n",
              " 'best_supporting_actor_actress_awards',\n",
              " 'total_awards',\n",
              " 'total_nominations']"
            ]
          },
          "metadata": {},
          "execution_count": 32
        }
      ]
    },
    {
      "cell_type": "code",
      "source": [
        "new_columns = wiki_df.columns.map(lambda x : x.replace(' ', '_').replace('/','_').lower())\n",
        "new_columns"
      ],
      "metadata": {
        "colab": {
          "base_uri": "https://localhost:8080/"
        },
        "id": "h_kIdWCZCbDk",
        "outputId": "6da7470b-0b2a-4756-c664-aba711e0464f"
      },
      "execution_count": null,
      "outputs": [
        {
          "output_type": "execute_result",
          "data": {
            "text/plain": [
              "Index(['actor_actress', 'best_actor_actress_awards',\n",
              "       'best_supporting_actor_actress_awards', 'total_awards',\n",
              "       'total_nominations'],\n",
              "      dtype='object')"
            ]
          },
          "metadata": {},
          "execution_count": 34
        }
      ]
    },
    {
      "cell_type": "code",
      "source": [
        "wiki_df.columns = new_columns"
      ],
      "metadata": {
        "id": "1P_lDBlAC58C"
      },
      "execution_count": null,
      "outputs": []
    },
    {
      "cell_type": "code",
      "source": [
        "string_with_leading_spaces = '    hello   '\n",
        "string_with_leading_spaces"
      ],
      "metadata": {
        "colab": {
          "base_uri": "https://localhost:8080/",
          "height": 36
        },
        "id": "-f0KX446D7bg",
        "outputId": "e17ab1a7-798e-444f-b98a-4baafb529107"
      },
      "execution_count": null,
      "outputs": [
        {
          "output_type": "execute_result",
          "data": {
            "text/plain": [
              "'    hello   '"
            ],
            "application/vnd.google.colaboratory.intrinsic+json": {
              "type": "string"
            }
          },
          "metadata": {},
          "execution_count": 44
        }
      ]
    },
    {
      "cell_type": "code",
      "source": [
        "string_with_leading_spaces.strip()"
      ],
      "metadata": {
        "colab": {
          "base_uri": "https://localhost:8080/",
          "height": 36
        },
        "id": "2VKLnX38ETM_",
        "outputId": "a67a6494-968a-4345-9c46-44bd3ca7d5cb"
      },
      "execution_count": null,
      "outputs": [
        {
          "output_type": "execute_result",
          "data": {
            "text/plain": [
              "'hello'"
            ],
            "application/vnd.google.colaboratory.intrinsic+json": {
              "type": "string"
            }
          },
          "metadata": {},
          "execution_count": 45
        }
      ]
    },
    {
      "cell_type": "code",
      "source": [
        "wiki_df.actor_actress.replace?"
      ],
      "metadata": {
        "id": "45_3_Q60Femi"
      },
      "execution_count": null,
      "outputs": []
    },
    {
      "cell_type": "code",
      "source": [
        "wiki_df.actor_actress.map(lambda x : x.replace('†', '').strip())\n",
        "#non ASCII"
      ],
      "metadata": {
        "colab": {
          "base_uri": "https://localhost:8080/"
        },
        "id": "H_OR0nuKDEtt",
        "outputId": "0a4e786f-5259-4e4c-e808-d79d8b8a19bf"
      },
      "execution_count": null,
      "outputs": [
        {
          "output_type": "execute_result",
          "data": {
            "text/plain": [
              "0       Katharine Hepburn\n",
              "1            Meryl Streep\n",
              "2          Jack Nicholson\n",
              "3          Ingrid Bergman\n",
              "4        Daniel Day-Lewis\n",
              "5       Frances McDormand\n",
              "6          Walter Brennan\n",
              "7             Bette Davis\n",
              "8           Spencer Tracy\n",
              "9       Denzel Washington\n",
              "10          Marlon Brando\n",
              "11            Jack Lemmon\n",
              "12         Cate Blanchett\n",
              "13         Robert De Niro\n",
              "14             Jane Fonda\n",
              "15         Dustin Hoffman\n",
              "16          Michael Caine\n",
              "17              Tom Hanks\n",
              "18        Anthony Hopkins\n",
              "19          Jessica Lange\n",
              "20           Maggie Smith\n",
              "21            Gary Cooper\n",
              "22    Olivia de Havilland\n",
              "23           Gene Hackman\n",
              "24          Fredric March\n",
              "25              Sean Penn\n",
              "26       Elizabeth Taylor\n",
              "27           Jodie Foster\n",
              "28         Glenda Jackson\n",
              "29          Anthony Quinn\n",
              "30        Shelley Winters\n",
              "31        Renée Zellweger\n",
              "32         Melvyn Douglas\n",
              "33            Sally Field\n",
              "34          Jason Robards\n",
              "35          Peter Ustinov\n",
              "36           Dianne Wiest\n",
              "37         Mahershala Ali\n",
              "38            Helen Hayes\n",
              "39           Vivien Leigh\n",
              "40           Luise Rainer\n",
              "41           Kevin Spacey\n",
              "42           Hilary Swank\n",
              "43        Christoph Waltz\n",
              "Name: actor_actress, dtype: object"
            ]
          },
          "metadata": {},
          "execution_count": 47
        }
      ]
    },
    {
      "cell_type": "markdown",
      "source": [
        "## Histograms\n"
      ],
      "metadata": {
        "id": "shJkLGqdTnul"
      }
    },
    {
      "cell_type": "code",
      "source": [
        "import numpy as np"
      ],
      "metadata": {
        "id": "h2lmFofdGZkg"
      },
      "execution_count": null,
      "outputs": []
    },
    {
      "cell_type": "code",
      "source": [
        "normal_samples = np.random.normal(size=10000)"
      ],
      "metadata": {
        "id": "1eS5BJ-PGq73"
      },
      "execution_count": null,
      "outputs": []
    },
    {
      "cell_type": "code",
      "source": [
        "normal_samples[:100]"
      ],
      "metadata": {
        "colab": {
          "base_uri": "https://localhost:8080/"
        },
        "id": "N5hteaSbHafr",
        "outputId": "78c7c5f0-9b84-41c8-be82-7c16ec051140"
      },
      "execution_count": null,
      "outputs": [
        {
          "output_type": "execute_result",
          "data": {
            "text/plain": [
              "array([-0.53803911,  0.68322817, -0.42503191, -0.36956364, -0.52638205,\n",
              "       -0.26299254,  0.5010704 ,  1.66137627, -0.17065188, -0.5309816 ,\n",
              "        3.04344526,  0.38581036,  0.08548539,  0.04706335,  0.58757879,\n",
              "       -0.39431652, -0.66749922,  0.11391359, -0.75493884, -0.49495592,\n",
              "       -2.10590961,  0.58200595,  0.36140848, -0.28437215, -0.64977478,\n",
              "        0.66990264,  0.14655834, -0.6610584 ,  0.16699541, -0.00597456,\n",
              "       -1.13208085,  1.23936693, -2.22339107,  0.62000489,  0.34533336,\n",
              "        1.12530112, -1.22613194,  1.1773744 ,  0.48767255, -0.48057946,\n",
              "       -1.10075938, -0.05444061, -1.05471954, -0.15626494,  0.48501784,\n",
              "       -0.94713253, -0.12921649,  1.51872915,  1.2030155 ,  1.17761398,\n",
              "        0.52807644, -0.56628144, -2.11946925, -0.44531088,  0.30266884,\n",
              "       -1.80214239, -1.29139884, -0.28485336, -1.29957042,  1.69210352,\n",
              "        1.15206807,  0.66563702, -1.24563865,  1.04834031,  0.00465351,\n",
              "        0.79783963, -2.12461788,  0.72339502, -1.76644064, -0.4808544 ,\n",
              "       -0.65088474,  1.3828007 , -1.06051332,  0.97463508, -0.89980435,\n",
              "        0.63961336, -1.22024019, -0.62989255,  0.86879247, -1.34577085,\n",
              "        0.98788764, -0.062227  , -1.71885047,  0.60953549, -1.3118743 ,\n",
              "        1.55130725,  0.73954453, -0.27656459, -1.64921012, -0.62523512,\n",
              "        0.06095772, -1.19713798,  1.75496308, -0.11339584,  1.84301755,\n",
              "        0.65164433,  0.90805083,  1.82533232, -0.25746913, -0.46029411])"
            ]
          },
          "metadata": {},
          "execution_count": 57
        }
      ]
    },
    {
      "cell_type": "code",
      "source": [
        "normal_series = pd.Series(normal_samples)"
      ],
      "metadata": {
        "id": "DSynQNmmH4Yi"
      },
      "execution_count": null,
      "outputs": []
    },
    {
      "cell_type": "code",
      "source": [
        "normal_series.hist(figsize=(8,6), bins=100)"
      ],
      "metadata": {
        "colab": {
          "base_uri": "https://localhost:8080/",
          "height": 392
        },
        "id": "ytHwiWQGIEfF",
        "outputId": "9c8a64dc-84ec-4c9f-cc19-62baddbacf0d"
      },
      "execution_count": null,
      "outputs": [
        {
          "output_type": "execute_result",
          "data": {
            "text/plain": [
              "<matplotlib.axes._subplots.AxesSubplot at 0x7f090a952090>"
            ]
          },
          "metadata": {},
          "execution_count": 69
        },
        {
          "output_type": "display_data",
          "data": {
            "text/plain": [
              "<Figure size 576x432 with 1 Axes>"
            ],
            "image/png": "[encoded data removed]"
          },
          "metadata": {
            "needs_background": "light"
          }
        }
      ]
    },
    {
      "cell_type": "code",
      "source": [
        "wiki_df.hist(figsize=(8, 6))"
      ],
      "metadata": {
        "colab": {
          "base_uri": "https://localhost:8080/",
          "height": 443
        },
        "id": "aX1ZnrVnJ8Xz",
        "outputId": "dbd02154-24d1-406f-8eac-bf117259f948"
      },
      "execution_count": null,
      "outputs": [
        {
          "output_type": "execute_result",
          "data": {
            "text/plain": [
              "array([[<matplotlib.axes._subplots.AxesSubplot object at 0x7f090a814250>,\n",
              "        <matplotlib.axes._subplots.AxesSubplot object at 0x7f090a933110>]],\n",
              "      dtype=object)"
            ]
          },
          "metadata": {},
          "execution_count": 71
        },
        {
          "output_type": "display_data",
          "data": {
            "text/plain": [
              "<Figure size 576x432 with 2 Axes>"
            ],
            "image/png": "[encoded data removed]"
          },
          "metadata": {
            "needs_background": "light"
          }
        }
      ]
    },
    {
      "cell_type": "code",
      "source": [
        "import os, pandas as pd"
      ],
      "metadata": {
        "id": "2E3iXZS9KCUn"
      },
      "execution_count": null,
      "outputs": []
    },
    {
      "cell_type": "code",
      "source": [
        "os.listdir('sample_data')"
      ],
      "metadata": {
        "colab": {
          "base_uri": "https://localhost:8080/"
        },
        "id": "c6DYmP9TKShf",
        "outputId": "5b84c4f3-a219-421c-c391-0e6de14145cb"
      },
      "execution_count": null,
      "outputs": [
        {
          "output_type": "execute_result",
          "data": {
            "text/plain": [
              "['README.md',\n",
              " 'anscombe.json',\n",
              " 'california_housing_train.csv',\n",
              " 'mnist_test.csv',\n",
              " 'california_housing_test.csv',\n",
              " 'mnist_train_small.csv']"
            ]
          },
          "metadata": {},
          "execution_count": 9
        }
      ]
    },
    {
      "cell_type": "code",
      "source": [
        "housing_df = pd.read_csv('sample_data/california_housing_train.csv')"
      ],
      "metadata": {
        "id": "NO441YM5KYXu"
      },
      "execution_count": null,
      "outputs": []
    },
    {
      "cell_type": "code",
      "source": [
        "housing_df.describe().T"
      ],
      "metadata": {
        "colab": {
          "base_uri": "https://localhost:8080/",
          "height": 332
        },
        "id": "StGHrqgUKcYP",
        "outputId": "75d34080-001c-42ff-c292-da525621e0b0"
      },
      "execution_count": null,
      "outputs": [
        {
          "output_type": "execute_result",
          "data": {
            "text/plain": [
              "                      count           mean            std         min  \\\n",
              "longitude           17000.0    -119.562108       2.005166   -124.3500   \n",
              "latitude            17000.0      35.625225       2.137340     32.5400   \n",
              "housing_median_age  17000.0      28.589353      12.586937      1.0000   \n",
              "total_rooms         17000.0    2643.664412    2179.947071      2.0000   \n",
              "total_bedrooms      17000.0     539.410824     421.499452      1.0000   \n",
              "population          17000.0    1429.573941    1147.852959      3.0000   \n",
              "households          17000.0     501.221941     384.520841      1.0000   \n",
              "median_income       17000.0       3.883578       1.908157      0.4999   \n",
              "median_house_value  17000.0  207300.912353  115983.764387  14999.0000   \n",
              "\n",
              "                              25%          50%         75%          max  \n",
              "longitude             -121.790000    -118.4900    -118.000    -114.3100  \n",
              "latitude                33.930000      34.2500      37.720      41.9500  \n",
              "housing_median_age      18.000000      29.0000      37.000      52.0000  \n",
              "total_rooms           1462.000000    2127.0000    3151.250   37937.0000  \n",
              "total_bedrooms         297.000000     434.0000     648.250    6445.0000  \n",
              "population             790.000000    1167.0000    1721.000   35682.0000  \n",
              "households             282.000000     409.0000     605.250    6082.0000  \n",
              "median_income            2.566375       3.5446       4.767      15.0001  \n",
              "median_house_value  119400.000000  180400.0000  265000.000  500001.0000  "
            ],
            "text/html": [
              "\n",
              "  <div id=\"df-134cfa00-806c-4eb1-abc3-971262f57671\">\n",
              "    <div class=\"colab-df-container\">\n",
              "      <div>\n",
              "<style scoped>\n",
              "    .dataframe tbody tr th:only-of-type {\n",
              "        vertical-align: middle;\n",
              "    }\n",
              "\n",
              "    .dataframe tbody tr th {\n",
              "        vertical-align: top;\n",
              "    }\n",
              "\n",
              "    .dataframe thead th {\n",
              "        text-align: right;\n",
              "    }\n",
              "</style>\n",
              "<table border=\"1\" class=\"dataframe\">\n",
              "  <thead>\n",
              "    <tr style=\"text-align: right;\">\n",
              "      <th></th>\n",
              "      <th>count</th>\n",
              "      <th>mean</th>\n",
              "      <th>std</th>\n",
              "      <th>min</th>\n",
              "      <th>25%</th>\n",
              "      <th>50%</th>\n",
              "      <th>75%</th>\n",
              "      <th>max</th>\n",
              "    </tr>\n",
              "  </thead>\n",
              "  <tbody>\n",
              "    <tr>\n",
              "      <th>longitude</th>\n",
              "      <td>17000.0</td>\n",
              "      <td>-119.562108</td>\n",
              "      <td>2.005166</td>\n",
              "      <td>-124.3500</td>\n",
              "      <td>-121.790000</td>\n",
              "      <td>-118.4900</td>\n",
              "      <td>-118.000</td>\n",
              "      <td>-114.3100</td>\n",
              "    </tr>\n",
              "    <tr>\n",
              "      <th>latitude</th>\n",
              "      <td>17000.0</td>\n",
              "      <td>35.625225</td>\n",
              "      <td>2.137340</td>\n",
              "      <td>32.5400</td>\n",
              "      <td>33.930000</td>\n",
              "      <td>34.2500</td>\n",
              "      <td>37.720</td>\n",
              "      <td>41.9500</td>\n",
              "    </tr>\n",
              "    <tr>\n",
              "      <th>housing_median_age</th>\n",
              "      <td>17000.0</td>\n",
              "      <td>28.589353</td>\n",
              "      <td>12.586937</td>\n",
              "      <td>1.0000</td>\n",
              "      <td>18.000000</td>\n",
              "      <td>29.0000</td>\n",
              "      <td>37.000</td>\n",
              "      <td>52.0000</td>\n",
              "    </tr>\n",
              "    <tr>\n",
              "      <th>total_rooms</th>\n",
              "      <td>17000.0</td>\n",
              "      <td>2643.664412</td>\n",
              "      <td>2179.947071</td>\n",
              "      <td>2.0000</td>\n",
              "      <td>1462.000000</td>\n",
              "      <td>2127.0000</td>\n",
              "      <td>3151.250</td>\n",
              "      <td>37937.0000</td>\n",
              "    </tr>\n",
              "    <tr>\n",
              "      <th>total_bedrooms</th>\n",
              "      <td>17000.0</td>\n",
              "      <td>539.410824</td>\n",
              "      <td>421.499452</td>\n",
              "      <td>1.0000</td>\n",
              "      <td>297.000000</td>\n",
              "      <td>434.0000</td>\n",
              "      <td>648.250</td>\n",
              "      <td>6445.0000</td>\n",
              "    </tr>\n",
              "    <tr>\n",
              "      <th>population</th>\n",
              "      <td>17000.0</td>\n",
              "      <td>1429.573941</td>\n",
              "      <td>1147.852959</td>\n",
              "      <td>3.0000</td>\n",
              "      <td>790.000000</td>\n",
              "      <td>1167.0000</td>\n",
              "      <td>1721.000</td>\n",
              "      <td>35682.0000</td>\n",
              "    </tr>\n",
              "    <tr>\n",
              "      <th>households</th>\n",
              "      <td>17000.0</td>\n",
              "      <td>501.221941</td>\n",
              "      <td>384.520841</td>\n",
              "      <td>1.0000</td>\n",
              "      <td>282.000000</td>\n",
              "      <td>409.0000</td>\n",
              "      <td>605.250</td>\n",
              "      <td>6082.0000</td>\n",
              "    </tr>\n",
              "    <tr>\n",
              "      <th>median_income</th>\n",
              "      <td>17000.0</td>\n",
              "      <td>3.883578</td>\n",
              "      <td>1.908157</td>\n",
              "      <td>0.4999</td>\n",
              "      <td>2.566375</td>\n",
              "      <td>3.5446</td>\n",
              "      <td>4.767</td>\n",
              "      <td>15.0001</td>\n",
              "    </tr>\n",
              "    <tr>\n",
              "      <th>median_house_value</th>\n",
              "      <td>17000.0</td>\n",
              "      <td>207300.912353</td>\n",
              "      <td>115983.764387</td>\n",
              "      <td>14999.0000</td>\n",
              "      <td>119400.000000</td>\n",
              "      <td>180400.0000</td>\n",
              "      <td>265000.000</td>\n",
              "      <td>500001.0000</td>\n",
              "    </tr>\n",
              "  </tbody>\n",
              "</table>\n",
              "</div>\n",
              "      <button class=\"colab-df-convert\" onclick=\"convertToInteractive('df-134cfa00-806c-4eb1-abc3-971262f57671')\"\n",
              "              title=\"Convert this dataframe to an interactive table.\"\n",
              "              style=\"display:none;\">\n",
              "        \n",
              "  <svg xmlns=\"http://www.w3.org/2000/svg\" height=\"24px\"viewBox=\"0 0 24 24\"\n",
              "       width=\"24px\">\n",
              "    <path d=\"M0 0h24v24H0V0z\" fill=\"none\"/>\n",
              "    <path d=\"M18.56 5.44l.94 2.06.94-2.06 2.06-.94-2.06-.94-.94-2.06-.94 2.06-2.06.94zm-11 1L8.5 8.5l.94-2.06 2.06-.94-2.06-.94L8.5 2.5l-.94 2.06-2.06.94zm10 10l.94 2.06.94-2.06 2.06-.94-2.06-.94-.94-2.06-.94 2.06-2.06.94z\"/><path d=\"M17.41 7.96l-1.37-1.37c-.4-.4-.92-.59-1.43-.59-.52 0-1.04.2-1.43.59L10.3 9.45l-7.72 7.72c-.78.78-.78 2.05 0 2.83L4 21.41c.39.39.9.59 1.41.59.51 0 1.02-.2 1.41-.59l7.78-7.78 2.81-2.81c.8-.78.8-2.07 0-2.86zM5.41 20L4 18.59l7.72-7.72 1.47 1.35L5.41 20z\"/>\n",
              "  </svg>\n",
              "      </button>\n",
              "      \n",
              "  <style>\n",
              "    .colab-df-container {\n",
              "      display:flex;\n",
              "      flex-wrap:wrap;\n",
              "      gap: 12px;\n",
              "    }\n",
              "\n",
              "    .colab-df-convert {\n",
              "      background-color: #E8F0FE;\n",
              "      border: none;\n",
              "      border-radius: 50%;\n",
              "      cursor: pointer;\n",
              "      display: none;\n",
              "      fill: #1967D2;\n",
              "      height: 32px;\n",
              "      padding: 0 0 0 0;\n",
              "      width: 32px;\n",
              "    }\n",
              "\n",
              "    .colab-df-convert:hover {\n",
              "      background-color: #E2EBFA;\n",
              "      box-shadow: 0px 1px 2px rgba(60, 64, 67, 0.3), 0px 1px 3px 1px rgba(60, 64, 67, 0.15);\n",
              "      fill: #174EA6;\n",
              "    }\n",
              "\n",
              "    [theme=dark] .colab-df-convert {\n",
              "      background-color: #3B4455;\n",
              "      fill: #D2E3FC;\n",
              "    }\n",
              "\n",
              "    [theme=dark] .colab-df-convert:hover {\n",
              "      background-color: #434B5C;\n",
              "      box-shadow: 0px 1px 3px 1px rgba(0, 0, 0, 0.15);\n",
              "      filter: drop-shadow(0px 1px 2px rgba(0, 0, 0, 0.3));\n",
              "      fill: #FFFFFF;\n",
              "    }\n",
              "  </style>\n",
              "\n",
              "      <script>\n",
              "        const buttonEl =\n",
              "          document.querySelector('#df-134cfa00-806c-4eb1-abc3-971262f57671 button.colab-df-convert');\n",
              "        buttonEl.style.display =\n",
              "          google.colab.kernel.accessAllowed ? 'block' : 'none';\n",
              "\n",
              "        async function convertToInteractive(key) {\n",
              "          const element = document.querySelector('#df-134cfa00-806c-4eb1-abc3-971262f57671');\n",
              "          const dataTable =\n",
              "            await google.colab.kernel.invokeFunction('convertToInteractive',\n",
              "                                                     [key], {});\n",
              "          if (!dataTable) return;\n",
              "\n",
              "          const docLinkHtml = 'Like what you see? Visit the ' +\n",
              "            '<a target=\"_blank\" href=https://colab.research.google.com/notebooks/data_table.ipynb>data table notebook</a>'\n",
              "            + ' to learn more about interactive tables.';\n",
              "          element.innerHTML = '';\n",
              "          dataTable['output_type'] = 'display_data';\n",
              "          await google.colab.output.renderOutput(dataTable, element);\n",
              "          const docLink = document.createElement('div');\n",
              "          docLink.innerHTML = docLinkHtml;\n",
              "          element.appendChild(docLink);\n",
              "        }\n",
              "      </script>\n",
              "    </div>\n",
              "  </div>\n",
              "  "
            ]
          },
          "metadata": {},
          "execution_count": 11
        }
      ]
    },
    {
      "cell_type": "code",
      "source": [
        "housing_df.hist(figsize=(12,10), bins=100)"
      ],
      "metadata": {
        "colab": {
          "base_uri": "https://localhost:8080/",
          "height": 793
        },
        "id": "vv8bQE16KvkA",
        "outputId": "5a8a56dc-7e8b-4bfb-dccd-357194a9ef64"
      },
      "execution_count": null,
      "outputs": [
        {
          "output_type": "execute_result",
          "data": {
            "text/plain": [
              "array([[<matplotlib.axes._subplots.AxesSubplot object at 0x7f21568b3290>,\n",
              "        <matplotlib.axes._subplots.AxesSubplot object at 0x7f2156889790>,\n",
              "        <matplotlib.axes._subplots.AxesSubplot object at 0x7f2156843d90>],\n",
              "       [<matplotlib.axes._subplots.AxesSubplot object at 0x7f21568083d0>,\n",
              "        <matplotlib.axes._subplots.AxesSubplot object at 0x7f21567bc9d0>,\n",
              "        <matplotlib.axes._subplots.AxesSubplot object at 0x7f2156769b10>],\n",
              "       [<matplotlib.axes._subplots.AxesSubplot object at 0x7f2156738690>,\n",
              "        <matplotlib.axes._subplots.AxesSubplot object at 0x7f21566ed110>,\n",
              "        <matplotlib.axes._subplots.AxesSubplot object at 0x7f21566edf50>]],\n",
              "      dtype=object)"
            ]
          },
          "metadata": {},
          "execution_count": 12
        },
        {
          "output_type": "display_data",
          "data": {
            "text/plain": [
              "<Figure size 864x720 with 9 Axes>"
            ],
            "image/png": "[encoded data removed]"
          },
          "metadata": {
            "needs_background": "light"
          }
        }
      ]
    },
    {
      "cell_type": "code",
      "source": [
        "housing_df['median_house_value'].hist(figsize=(12, 6), bins=100)"
      ],
      "metadata": {
        "colab": {
          "base_uri": "https://localhost:8080/",
          "height": 393
        },
        "id": "9Rp3CWMHMRzr",
        "outputId": "ee36025e-cb3d-4509-b79e-ac1514a8b421"
      },
      "execution_count": null,
      "outputs": [
        {
          "output_type": "execute_result",
          "data": {
            "text/plain": [
              "<matplotlib.axes._subplots.AxesSubplot at 0x7f2155a95290>"
            ]
          },
          "metadata": {},
          "execution_count": 13
        },
        {
          "output_type": "display_data",
          "data": {
            "text/plain": [
              "<Figure size 864x432 with 1 Axes>"
            ],
            "image/png": "[encoded data removed]"
          },
          "metadata": {
            "needs_background": "light"
          }
        }
      ]
    },
    {
      "cell_type": "code",
      "source": [
        "equal_to_max_mask = housing_df['median_house_value'] == housing_df['median_house_value'].max()"
      ],
      "metadata": {
        "id": "Iv8xBlD2MXzy"
      },
      "execution_count": null,
      "outputs": []
    },
    {
      "cell_type": "code",
      "source": [
        "equal_to_max_mask"
      ],
      "metadata": {
        "colab": {
          "base_uri": "https://localhost:8080/"
        },
        "id": "EayfbumJQEK9",
        "outputId": "beabacb6-b7c9-4bbe-c66b-1e1afda80166"
      },
      "execution_count": null,
      "outputs": [
        {
          "output_type": "execute_result",
          "data": {
            "text/plain": [
              "0        False\n",
              "1        False\n",
              "2        False\n",
              "3        False\n",
              "4        False\n",
              "         ...  \n",
              "16995    False\n",
              "16996    False\n",
              "16997    False\n",
              "16998    False\n",
              "16999    False\n",
              "Name: median_house_value, Length: 17000, dtype: bool"
            ]
          },
          "metadata": {},
          "execution_count": 15
        }
      ]
    },
    {
      "cell_type": "code",
      "source": [
        "housing_df[equal_to_max_mask]"
      ],
      "metadata": {
        "colab": {
          "base_uri": "https://localhost:8080/",
          "height": 424
        },
        "id": "kGycXCBUQRpl",
        "outputId": "703d4052-e0e1-44c6-af69-5b24feb6d517"
      },
      "execution_count": null,
      "outputs": [
        {
          "output_type": "execute_result",
          "data": {
            "text/plain": [
              "       longitude  latitude  housing_median_age  total_rooms  total_bedrooms  \\\n",
              "215      -116.43     33.75                24.0       2596.0           438.0   \n",
              "260      -116.55     33.84                28.0       2992.0           562.0   \n",
              "862      -117.08     34.08                34.0         45.0            11.0   \n",
              "1388     -117.17     32.69                40.0       2236.0           331.0   \n",
              "1404     -117.18     33.51                13.0        270.0            42.0   \n",
              "...          ...       ...                 ...          ...             ...   \n",
              "16419    -122.56     37.94                36.0       2023.0           242.0   \n",
              "16420    -122.56     37.92                37.0       1926.0           290.0   \n",
              "16421    -122.56     37.91                52.0       1972.0           327.0   \n",
              "16434    -122.57     37.96                52.0       3458.0           468.0   \n",
              "16512    -122.64     37.96                29.0        377.0            58.0   \n",
              "\n",
              "       population  households  median_income  median_house_value  \n",
              "215         473.0       237.0         3.7727            500001.0  \n",
              "260         676.0       346.0         5.7613            500001.0  \n",
              "862          39.0        14.0         3.0625            500001.0  \n",
              "1388        767.0       316.0         5.3177            500001.0  \n",
              "1404        120.0        42.0         6.9930            500001.0  \n",
              "...           ...         ...            ...                 ...  \n",
              "16419       653.0       241.0        10.6272            500001.0  \n",
              "16420       721.0       298.0         8.9248            500001.0  \n",
              "16421       755.0       345.0         7.1924            500001.0  \n",
              "16434      1449.0       471.0         9.1834            500001.0  \n",
              "16512       151.0        67.0         9.5551            500001.0  \n",
              "\n",
              "[814 rows x 9 columns]"
            ],
            "text/html": [
              "\n",
              "  <div id=\"df-527baa81-a96f-4ca7-9bb5-d09b6a5c6db2\">\n",
              "    <div class=\"colab-df-container\">\n",
              "      <div>\n",
              "<style scoped>\n",
              "    .dataframe tbody tr th:only-of-type {\n",
              "        vertical-align: middle;\n",
              "    }\n",
              "\n",
              "    .dataframe tbody tr th {\n",
              "        vertical-align: top;\n",
              "    }\n",
              "\n",
              "    .dataframe thead th {\n",
              "        text-align: right;\n",
              "    }\n",
              "</style>\n",
              "<table border=\"1\" class=\"dataframe\">\n",
              "  <thead>\n",
              "    <tr style=\"text-align: right;\">\n",
              "      <th></th>\n",
              "      <th>longitude</th>\n",
              "      <th>latitude</th>\n",
              "      <th>housing_median_age</th>\n",
              "      <th>total_rooms</th>\n",
              "      <th>total_bedrooms</th>\n",
              "      <th>population</th>\n",
              "      <th>households</th>\n",
              "      <th>median_income</th>\n",
              "      <th>median_house_value</th>\n",
              "    </tr>\n",
              "  </thead>\n",
              "  <tbody>\n",
              "    <tr>\n",
              "      <th>215</th>\n",
              "      <td>-116.43</td>\n",
              "      <td>33.75</td>\n",
              "      <td>24.0</td>\n",
              "      <td>2596.0</td>\n",
              "      <td>438.0</td>\n",
              "      <td>473.0</td>\n",
              "      <td>237.0</td>\n",
              "      <td>3.7727</td>\n",
              "      <td>500001.0</td>\n",
              "    </tr>\n",
              "    <tr>\n",
              "      <th>260</th>\n",
              "      <td>-116.55</td>\n",
              "      <td>33.84</td>\n",
              "      <td>28.0</td>\n",
              "      <td>2992.0</td>\n",
              "      <td>562.0</td>\n",
              "      <td>676.0</td>\n",
              "      <td>346.0</td>\n",
              "      <td>5.7613</td>\n",
              "      <td>500001.0</td>\n",
              "    </tr>\n",
              "    <tr>\n",
              "      <th>862</th>\n",
              "      <td>-117.08</td>\n",
              "      <td>34.08</td>\n",
              "      <td>34.0</td>\n",
              "      <td>45.0</td>\n",
              "      <td>11.0</td>\n",
              "      <td>39.0</td>\n",
              "      <td>14.0</td>\n",
              "      <td>3.0625</td>\n",
              "      <td>500001.0</td>\n",
              "    </tr>\n",
              "    <tr>\n",
              "      <th>1388</th>\n",
              "      <td>-117.17</td>\n",
              "      <td>32.69</td>\n",
              "      <td>40.0</td>\n",
              "      <td>2236.0</td>\n",
              "      <td>331.0</td>\n",
              "      <td>767.0</td>\n",
              "      <td>316.0</td>\n",
              "      <td>5.3177</td>\n",
              "      <td>500001.0</td>\n",
              "    </tr>\n",
              "    <tr>\n",
              "      <th>1404</th>\n",
              "      <td>-117.18</td>\n",
              "      <td>33.51</td>\n",
              "      <td>13.0</td>\n",
              "      <td>270.0</td>\n",
              "      <td>42.0</td>\n",
              "      <td>120.0</td>\n",
              "      <td>42.0</td>\n",
              "      <td>6.9930</td>\n",
              "      <td>500001.0</td>\n",
              "    </tr>\n",
              "    <tr>\n",
              "      <th>...</th>\n",
              "      <td>...</td>\n",
              "      <td>...</td>\n",
              "      <td>...</td>\n",
              "      <td>...</td>\n",
              "      <td>...</td>\n",
              "      <td>...</td>\n",
              "      <td>...</td>\n",
              "      <td>...</td>\n",
              "      <td>...</td>\n",
              "    </tr>\n",
              "    <tr>\n",
              "      <th>16419</th>\n",
              "      <td>-122.56</td>\n",
              "      <td>37.94</td>\n",
              "      <td>36.0</td>\n",
              "      <td>2023.0</td>\n",
              "      <td>242.0</td>\n",
              "      <td>653.0</td>\n",
              "      <td>241.0</td>\n",
              "      <td>10.6272</td>\n",
              "      <td>500001.0</td>\n",
              "    </tr>\n",
              "    <tr>\n",
              "      <th>16420</th>\n",
              "      <td>-122.56</td>\n",
              "      <td>37.92</td>\n",
              "      <td>37.0</td>\n",
              "      <td>1926.0</td>\n",
              "      <td>290.0</td>\n",
              "      <td>721.0</td>\n",
              "      <td>298.0</td>\n",
              "      <td>8.9248</td>\n",
              "      <td>500001.0</td>\n",
              "    </tr>\n",
              "    <tr>\n",
              "      <th>16421</th>\n",
              "      <td>-122.56</td>\n",
              "      <td>37.91</td>\n",
              "      <td>52.0</td>\n",
              "      <td>1972.0</td>\n",
              "      <td>327.0</td>\n",
              "      <td>755.0</td>\n",
              "      <td>345.0</td>\n",
              "      <td>7.1924</td>\n",
              "      <td>500001.0</td>\n",
              "    </tr>\n",
              "    <tr>\n",
              "      <th>16434</th>\n",
              "      <td>-122.57</td>\n",
              "      <td>37.96</td>\n",
              "      <td>52.0</td>\n",
              "      <td>3458.0</td>\n",
              "      <td>468.0</td>\n",
              "      <td>1449.0</td>\n",
              "      <td>471.0</td>\n",
              "      <td>9.1834</td>\n",
              "      <td>500001.0</td>\n",
              "    </tr>\n",
              "    <tr>\n",
              "      <th>16512</th>\n",
              "      <td>-122.64</td>\n",
              "      <td>37.96</td>\n",
              "      <td>29.0</td>\n",
              "      <td>377.0</td>\n",
              "      <td>58.0</td>\n",
              "      <td>151.0</td>\n",
              "      <td>67.0</td>\n",
              "      <td>9.5551</td>\n",
              "      <td>500001.0</td>\n",
              "    </tr>\n",
              "  </tbody>\n",
              "</table>\n",
              "<p>814 rows × 9 columns</p>\n",
              "</div>\n",
              "      <button class=\"colab-df-convert\" onclick=\"convertToInteractive('df-527baa81-a96f-4ca7-9bb5-d09b6a5c6db2')\"\n",
              "              title=\"Convert this dataframe to an interactive table.\"\n",
              "              style=\"display:none;\">\n",
              "        \n",
              "  <svg xmlns=\"http://www.w3.org/2000/svg\" height=\"24px\"viewBox=\"0 0 24 24\"\n",
              "       width=\"24px\">\n",
              "    <path d=\"M0 0h24v24H0V0z\" fill=\"none\"/>\n",
              "    <path d=\"M18.56 5.44l.94 2.06.94-2.06 2.06-.94-2.06-.94-.94-2.06-.94 2.06-2.06.94zm-11 1L8.5 8.5l.94-2.06 2.06-.94-2.06-.94L8.5 2.5l-.94 2.06-2.06.94zm10 10l.94 2.06.94-2.06 2.06-.94-2.06-.94-.94-2.06-.94 2.06-2.06.94z\"/><path d=\"M17.41 7.96l-1.37-1.37c-.4-.4-.92-.59-1.43-.59-.52 0-1.04.2-1.43.59L10.3 9.45l-7.72 7.72c-.78.78-.78 2.05 0 2.83L4 21.41c.39.39.9.59 1.41.59.51 0 1.02-.2 1.41-.59l7.78-7.78 2.81-2.81c.8-.78.8-2.07 0-2.86zM5.41 20L4 18.59l7.72-7.72 1.47 1.35L5.41 20z\"/>\n",
              "  </svg>\n",
              "      </button>\n",
              "      \n",
              "  <style>\n",
              "    .colab-df-container {\n",
              "      display:flex;\n",
              "      flex-wrap:wrap;\n",
              "      gap: 12px;\n",
              "    }\n",
              "\n",
              "    .colab-df-convert {\n",
              "      background-color: #E8F0FE;\n",
              "      border: none;\n",
              "      border-radius: 50%;\n",
              "      cursor: pointer;\n",
              "      display: none;\n",
              "      fill: #1967D2;\n",
              "      height: 32px;\n",
              "      padding: 0 0 0 0;\n",
              "      width: 32px;\n",
              "    }\n",
              "\n",
              "    .colab-df-convert:hover {\n",
              "      background-color: #E2EBFA;\n",
              "      box-shadow: 0px 1px 2px rgba(60, 64, 67, 0.3), 0px 1px 3px 1px rgba(60, 64, 67, 0.15);\n",
              "      fill: #174EA6;\n",
              "    }\n",
              "\n",
              "    [theme=dark] .colab-df-convert {\n",
              "      background-color: #3B4455;\n",
              "      fill: #D2E3FC;\n",
              "    }\n",
              "\n",
              "    [theme=dark] .colab-df-convert:hover {\n",
              "      background-color: #434B5C;\n",
              "      box-shadow: 0px 1px 3px 1px rgba(0, 0, 0, 0.15);\n",
              "      filter: drop-shadow(0px 1px 2px rgba(0, 0, 0, 0.3));\n",
              "      fill: #FFFFFF;\n",
              "    }\n",
              "  </style>\n",
              "\n",
              "      <script>\n",
              "        const buttonEl =\n",
              "          document.querySelector('#df-527baa81-a96f-4ca7-9bb5-d09b6a5c6db2 button.colab-df-convert');\n",
              "        buttonEl.style.display =\n",
              "          google.colab.kernel.accessAllowed ? 'block' : 'none';\n",
              "\n",
              "        async function convertToInteractive(key) {\n",
              "          const element = document.querySelector('#df-527baa81-a96f-4ca7-9bb5-d09b6a5c6db2');\n",
              "          const dataTable =\n",
              "            await google.colab.kernel.invokeFunction('convertToInteractive',\n",
              "                                                     [key], {});\n",
              "          if (!dataTable) return;\n",
              "\n",
              "          const docLinkHtml = 'Like what you see? Visit the ' +\n",
              "            '<a target=\"_blank\" href=https://colab.research.google.com/notebooks/data_table.ipynb>data table notebook</a>'\n",
              "            + ' to learn more about interactive tables.';\n",
              "          element.innerHTML = '';\n",
              "          dataTable['output_type'] = 'display_data';\n",
              "          await google.colab.output.renderOutput(dataTable, element);\n",
              "          const docLink = document.createElement('div');\n",
              "          docLink.innerHTML = docLinkHtml;\n",
              "          element.appendChild(docLink);\n",
              "        }\n",
              "      </script>\n",
              "    </div>\n",
              "  </div>\n",
              "  "
            ]
          },
          "metadata": {},
          "execution_count": 16
        }
      ]
    },
    {
      "cell_type": "code",
      "source": [
        "not_equal_to_max_mask = housing_df['median_house_value'] != housing_df['median_house_value'].max()"
      ],
      "metadata": {
        "id": "8ayN3wzyQxH3"
      },
      "execution_count": null,
      "outputs": []
    },
    {
      "cell_type": "code",
      "source": [
        "clean_housing_df = housing_df[not_equal_to_max_mask]"
      ],
      "metadata": {
        "id": "JKsVkcijQ1Fk"
      },
      "execution_count": null,
      "outputs": []
    },
    {
      "cell_type": "code",
      "source": [
        "clean_housing_df['median_house_value'].hist(bins=100)"
      ],
      "metadata": {
        "colab": {
          "base_uri": "https://localhost:8080/",
          "height": 283
        },
        "id": "fwl1lgGfQ7U6",
        "outputId": "57c95e9d-587f-4cc9-aac0-771fddc9a273"
      },
      "execution_count": null,
      "outputs": [
        {
          "output_type": "execute_result",
          "data": {
            "text/plain": [
              "<matplotlib.axes._subplots.AxesSubplot at 0x7f09089c08d0>"
            ]
          },
          "metadata": {},
          "execution_count": 96
        },
        {
          "output_type": "display_data",
          "data": {
            "text/plain": [
              "<Figure size 432x288 with 1 Axes>"
            ],
            "image/png": "[encoded data removed]"
          },
          "metadata": {
            "needs_background": "light"
          }
        }
      ]
    },
    {
      "cell_type": "markdown",
      "source": [
        "## replace the problematic values with the mean"
      ],
      "metadata": {
        "id": "OeNvFteYRLWO"
      }
    },
    {
      "cell_type": "code",
      "source": [
        "housing_df.isna().sum()"
      ],
      "metadata": {
        "id": "CQ2ZU45XROZ7",
        "outputId": "6933017c-40c6-4ca8-84bb-ffb4d137a17c",
        "colab": {
          "base_uri": "https://localhost:8080/"
        }
      },
      "execution_count": null,
      "outputs": [
        {
          "output_type": "execute_result",
          "data": {
            "text/plain": [
              "longitude             0\n",
              "latitude              0\n",
              "housing_median_age    0\n",
              "total_rooms           0\n",
              "total_bedrooms        0\n",
              "population            0\n",
              "households            0\n",
              "median_income         0\n",
              "median_house_value    0\n",
              "dtype: int64"
            ]
          },
          "metadata": {},
          "execution_count": 17
        }
      ]
    },
    {
      "cell_type": "markdown",
      "source": [
        "## replace the problematic values with samples from a normal distribution"
      ],
      "metadata": {
        "id": "rlnE5qUCRQNv"
      }
    },
    {
      "cell_type": "code",
      "source": [],
      "metadata": {
        "id": "FYcq-2IpRWj9"
      },
      "execution_count": null,
      "outputs": []
    },
    {
      "cell_type": "markdown",
      "source": [
        "#Numpy Exercises"
      ],
      "metadata": {
        "id": "7qnrpZYPhULC"
      }
    },
    {
      "cell_type": "markdown",
      "source": [
        "##1. Generate a vector with all multiples of 3 from 30 to 99"
      ],
      "metadata": {
        "id": "69UTGUqkhXxi"
      }
    },
    {
      "cell_type": "code",
      "source": [
        "import numpy as np\n",
        "\n",
        "a = np.arange(30,100,3)\n",
        "a"
      ],
      "metadata": {
        "id": "4az1ovNYBTEw",
        "outputId": "1460314f-09ff-404e-aa85-228e52f7dd4e",
        "colab": {
          "base_uri": "https://localhost:8080/"
        }
      },
      "execution_count": 2,
      "outputs": [
        {
          "output_type": "execute_result",
          "data": {
            "text/plain": [
              "array([30, 33, 36, 39, 42, 45, 48, 51, 54, 57, 60, 63, 66, 69, 72, 75, 78,\n",
              "       81, 84, 87, 90, 93, 96, 99])"
            ]
          },
          "metadata": {},
          "execution_count": 2
        }
      ]
    },
    {
      "cell_type": "markdown",
      "source": [
        "##2. Generate a square array of size (12, 12) filled with ones"
      ],
      "metadata": {
        "id": "q-SPatKUiRO4"
      }
    },
    {
      "cell_type": "code",
      "source": [
        "a = np.ones((12,12), dtype=float)\n",
        "a"
      ],
      "metadata": {
        "id": "lppA5bVTBkXg",
        "outputId": "870f28fc-a8be-4fd7-9d01-1900498036d7",
        "colab": {
          "base_uri": "https://localhost:8080/"
        }
      },
      "execution_count": 5,
      "outputs": [
        {
          "output_type": "execute_result",
          "data": {
            "text/plain": [
              "array([[1., 1., 1., 1., 1., 1., 1., 1., 1., 1., 1., 1.],\n",
              "       [1., 1., 1., 1., 1., 1., 1., 1., 1., 1., 1., 1.],\n",
              "       [1., 1., 1., 1., 1., 1., 1., 1., 1., 1., 1., 1.],\n",
              "       [1., 1., 1., 1., 1., 1., 1., 1., 1., 1., 1., 1.],\n",
              "       [1., 1., 1., 1., 1., 1., 1., 1., 1., 1., 1., 1.],\n",
              "       [1., 1., 1., 1., 1., 1., 1., 1., 1., 1., 1., 1.],\n",
              "       [1., 1., 1., 1., 1., 1., 1., 1., 1., 1., 1., 1.],\n",
              "       [1., 1., 1., 1., 1., 1., 1., 1., 1., 1., 1., 1.],\n",
              "       [1., 1., 1., 1., 1., 1., 1., 1., 1., 1., 1., 1.],\n",
              "       [1., 1., 1., 1., 1., 1., 1., 1., 1., 1., 1., 1.],\n",
              "       [1., 1., 1., 1., 1., 1., 1., 1., 1., 1., 1., 1.],\n",
              "       [1., 1., 1., 1., 1., 1., 1., 1., 1., 1., 1., 1.]])"
            ]
          },
          "metadata": {},
          "execution_count": 5
        }
      ]
    },
    {
      "cell_type": "markdown",
      "source": [
        "## 3. Generate an array of size (6,3) filled with all numbers between 1 and 18, backwards (18, 17, 16 ...)"
      ],
      "metadata": {
        "id": "RGizquE8iS-Y"
      }
    },
    {
      "cell_type": "code",
      "source": [
        "a = np.arange(1,19)[::-1].reshape(6,3)\n",
        "a"
      ],
      "metadata": {
        "id": "to4LY7BuCDp-",
        "outputId": "ebff798c-20d9-4154-c0ac-2d28aaf08237",
        "colab": {
          "base_uri": "https://localhost:8080/"
        }
      },
      "execution_count": 7,
      "outputs": [
        {
          "output_type": "execute_result",
          "data": {
            "text/plain": [
              "array([[18, 17, 16],\n",
              "       [15, 14, 13],\n",
              "       [12, 11, 10],\n",
              "       [ 9,  8,  7],\n",
              "       [ 6,  5,  4],\n",
              "       [ 3,  2,  1]])"
            ]
          },
          "metadata": {},
          "execution_count": 7
        }
      ]
    },
    {
      "cell_type": "code",
      "source": [
        "a = np.arange(18,0,-1).reshape(6,3)\n",
        "a"
      ],
      "metadata": {
        "id": "AyoI2Lz6ZNL-",
        "outputId": "8dcc8ead-5c1d-4f37-8234-62dcbeecea09",
        "colab": {
          "base_uri": "https://localhost:8080/"
        }
      },
      "execution_count": 8,
      "outputs": [
        {
          "output_type": "execute_result",
          "data": {
            "text/plain": [
              "array([[18, 17, 16],\n",
              "       [15, 14, 13],\n",
              "       [12, 11, 10],\n",
              "       [ 9,  8,  7],\n",
              "       [ 6,  5,  4],\n",
              "       [ 3,  2,  1]])"
            ]
          },
          "metadata": {},
          "execution_count": 8
        }
      ]
    },
    {
      "cell_type": "markdown",
      "source": [
        "## 4. Generate an array with the same shape as the previous exercise, but filled with zeros. BONUS: use only one method call"
      ],
      "metadata": {
        "id": "ypjUbXn_iaDH"
      }
    },
    {
      "cell_type": "code",
      "source": [
        "a = np.zeros((6,3), dtype=float)\n",
        "a"
      ],
      "metadata": {
        "id": "gPl8ECWyDtzg",
        "outputId": "8b5129bb-4820-4932-8f2a-36491fc58f9a",
        "colab": {
          "base_uri": "https://localhost:8080/"
        }
      },
      "execution_count": null,
      "outputs": [
        {
          "output_type": "execute_result",
          "data": {
            "text/plain": [
              "array([[0., 0., 0.],\n",
              "       [0., 0., 0.],\n",
              "       [0., 0., 0.],\n",
              "       [0., 0., 0.],\n",
              "       [0., 0., 0.],\n",
              "       [0., 0., 0.]])"
            ]
          },
          "metadata": {},
          "execution_count": 35
        }
      ]
    },
    {
      "cell_type": "markdown",
      "source": [
        "## 5. Generate an array of shape (4, 6) filled with random numbers between -4 and 4"
      ],
      "metadata": {
        "id": "v4Gnsz-4igdh"
      }
    },
    {
      "cell_type": "code",
      "source": [
        "a = np.random.randint(-4,4,(4,6))\n",
        "a"
      ],
      "metadata": {
        "id": "htw9RVlEEBgp",
        "outputId": "db7e6032-060d-4743-b218-076dd9d78d02",
        "colab": {
          "base_uri": "https://localhost:8080/"
        }
      },
      "execution_count": 9,
      "outputs": [
        {
          "output_type": "execute_result",
          "data": {
            "text/plain": [
              "array([[-2,  0, -1, -3, -1, -1],\n",
              "       [-3,  1,  0,  1,  1,  1],\n",
              "       [ 2, -1, -1,  2, -4, -4],\n",
              "       [-3,  3, -4,  0, -1, -2]])"
            ]
          },
          "metadata": {},
          "execution_count": 9
        }
      ]
    },
    {
      "cell_type": "markdown",
      "source": [
        "## 6. Calculate the size of the array generated in the previous exercise"
      ],
      "metadata": {
        "id": "Jhrln7guilhi"
      }
    },
    {
      "cell_type": "code",
      "source": [
        "size_a = np.size(a)\n",
        "size_a"
      ],
      "metadata": {
        "id": "UdIaaQanFyDO",
        "outputId": "ea3352f4-1786-4903-b49a-edfe51b20f58",
        "colab": {
          "base_uri": "https://localhost:8080/"
        }
      },
      "execution_count": 11,
      "outputs": [
        {
          "output_type": "execute_result",
          "data": {
            "text/plain": [
              "24"
            ]
          },
          "metadata": {},
          "execution_count": 11
        }
      ]
    },
    {
      "cell_type": "markdown",
      "source": [
        "## 7. Generate an array of shape (6, 3) filled with random numbers between 1 and 18, sorted in ascending order"
      ],
      "metadata": {
        "id": "_QtY9rhZiqAg"
      }
    },
    {
      "cell_type": "code",
      "source": [
        "b = np.random.randint(1,18,(6,3))\n",
        "# b = np.sort(b, axis=1)\n",
        "b"
      ],
      "metadata": {
        "id": "VGhaTDhAGC4b",
        "outputId": "20272f50-a2f6-46fd-8c59-4af3687fa1e3",
        "colab": {
          "base_uri": "https://localhost:8080/"
        }
      },
      "execution_count": 12,
      "outputs": [
        {
          "output_type": "execute_result",
          "data": {
            "text/plain": [
              "array([[ 3, 17,  8],\n",
              "       [ 7,  4,  4],\n",
              "       [14,  8,  4],\n",
              "       [ 6,  3, 11],\n",
              "       [17, 17,  3],\n",
              "       [ 4,  1, 13]])"
            ]
          },
          "metadata": {},
          "execution_count": 12
        }
      ]
    },
    {
      "cell_type": "code",
      "source": [
        "b[::-1].sort()\n",
        "b"
      ],
      "metadata": {
        "id": "dbFQWBblb5Py",
        "outputId": "30f96ae7-5985-46f9-d902-9432c4b847a3",
        "colab": {
          "base_uri": "https://localhost:8080/"
        }
      },
      "execution_count": 13,
      "outputs": [
        {
          "output_type": "execute_result",
          "data": {
            "text/plain": [
              "array([[ 3,  8, 17],\n",
              "       [ 4,  4,  7],\n",
              "       [ 4,  8, 14],\n",
              "       [ 3,  6, 11],\n",
              "       [ 3, 17, 17],\n",
              "       [ 1,  4, 13]])"
            ]
          },
          "metadata": {},
          "execution_count": 13
        }
      ]
    },
    {
      "cell_type": "code",
      "source": [
        "b = -np.sort(-np.random.randint(1,18,18)).reshape(6,3)\n",
        "b"
      ],
      "metadata": {
        "id": "Xzcg_fCFcYWK",
        "outputId": "f53ecce5-3e61-4cd9-b078-289419849ecd",
        "colab": {
          "base_uri": "https://localhost:8080/"
        }
      },
      "execution_count": 23,
      "outputs": [
        {
          "output_type": "execute_result",
          "data": {
            "text/plain": [
              "array([[17, 17, 17],\n",
              "       [15, 15, 14],\n",
              "       [14, 12,  9],\n",
              "       [ 9,  8,  7],\n",
              "       [ 5,  3,  2],\n",
              "       [ 1,  1,  1]])"
            ]
          },
          "metadata": {},
          "execution_count": 23
        }
      ]
    },
    {
      "cell_type": "markdown",
      "source": [
        "## 8. Sum the arrays from the 3rd and 7th exercise together\n"
      ],
      "metadata": {
        "id": "NXKCP8TYitQo"
      }
    },
    {
      "cell_type": "code",
      "source": [
        "c = a + b\n",
        "c"
      ],
      "metadata": {
        "id": "jOvvu-_nIDgC",
        "outputId": "b43e9e84-ffd4-40bb-9dba-05a462f56194",
        "colab": {
          "base_uri": "https://localhost:8080/"
        }
      },
      "execution_count": null,
      "outputs": [
        {
          "output_type": "execute_result",
          "data": {
            "text/plain": [
              "array([[13, 12, 15],\n",
              "       [ 9, 12, 20],\n",
              "       [15, 22, 25],\n",
              "       [17, 23, 30],\n",
              "       [10, 13, 16],\n",
              "       [14, 25, 28]])"
            ]
          },
          "metadata": {},
          "execution_count": 62
        }
      ]
    },
    {
      "cell_type": "markdown",
      "source": [
        "## 9. Calculate the sum of all the values from each column in the last generated array"
      ],
      "metadata": {
        "id": "K4gnsLa1iw5r"
      }
    },
    {
      "cell_type": "code",
      "source": [
        "sum_of_columns = c.sum(axis=0)\n",
        "sum_of_columns"
      ],
      "metadata": {
        "id": "15Gyl2MdKY6h",
        "outputId": "09804670-ab67-4747-d2c0-d18b02fef93c",
        "colab": {
          "base_uri": "https://localhost:8080/"
        }
      },
      "execution_count": null,
      "outputs": [
        {
          "output_type": "execute_result",
          "data": {
            "text/plain": [
              "array([ 78, 107, 134])"
            ]
          },
          "metadata": {},
          "execution_count": 64
        }
      ]
    },
    {
      "cell_type": "code",
      "source": [],
      "metadata": {
        "id": "nrQIutNhK8M3"
      },
      "execution_count": null,
      "outputs": []
    }
  ]
}